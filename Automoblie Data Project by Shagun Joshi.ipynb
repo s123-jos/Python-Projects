{
 "cells": [
  {
   "cell_type": "markdown",
   "metadata": {},
   "source": [
    "# Auto Mobile Data Analysis"
   ]
  },
  {
   "cell_type": "code",
   "execution_count": 1,
   "metadata": {},
   "outputs": [],
   "source": [
    "import numpy as np\n",
    "import pandas as pd"
   ]
  },
  {
   "cell_type": "code",
   "execution_count": 2,
   "metadata": {},
   "outputs": [],
   "source": [
    "auto = pd.read_csv('Automobile_data.csv')"
   ]
  },
  {
   "cell_type": "code",
   "execution_count": 3,
   "metadata": {},
   "outputs": [
    {
     "data": {
      "text/html": [
       "<div>\n",
       "<style scoped>\n",
       "    .dataframe tbody tr th:only-of-type {\n",
       "        vertical-align: middle;\n",
       "    }\n",
       "\n",
       "    .dataframe tbody tr th {\n",
       "        vertical-align: top;\n",
       "    }\n",
       "\n",
       "    .dataframe thead th {\n",
       "        text-align: right;\n",
       "    }\n",
       "</style>\n",
       "<table border=\"1\" class=\"dataframe\">\n",
       "  <thead>\n",
       "    <tr style=\"text-align: right;\">\n",
       "      <th></th>\n",
       "      <th>index</th>\n",
       "      <th>company</th>\n",
       "      <th>body-style</th>\n",
       "      <th>wheel-base</th>\n",
       "      <th>length</th>\n",
       "      <th>engine-type</th>\n",
       "      <th>num-of-cylinders</th>\n",
       "      <th>horsepower</th>\n",
       "      <th>average-mileage</th>\n",
       "      <th>price</th>\n",
       "    </tr>\n",
       "  </thead>\n",
       "  <tbody>\n",
       "    <tr>\n",
       "      <th>0</th>\n",
       "      <td>0</td>\n",
       "      <td>alfa-romero</td>\n",
       "      <td>convertible</td>\n",
       "      <td>88.6</td>\n",
       "      <td>168.8</td>\n",
       "      <td>dohc</td>\n",
       "      <td>four</td>\n",
       "      <td>111</td>\n",
       "      <td>21</td>\n",
       "      <td>13495.0</td>\n",
       "    </tr>\n",
       "    <tr>\n",
       "      <th>1</th>\n",
       "      <td>1</td>\n",
       "      <td>alfa-romero</td>\n",
       "      <td>convertible</td>\n",
       "      <td>88.6</td>\n",
       "      <td>168.8</td>\n",
       "      <td>dohc</td>\n",
       "      <td>four</td>\n",
       "      <td>111</td>\n",
       "      <td>21</td>\n",
       "      <td>16500.0</td>\n",
       "    </tr>\n",
       "    <tr>\n",
       "      <th>2</th>\n",
       "      <td>2</td>\n",
       "      <td>alfa-romero</td>\n",
       "      <td>hatchback</td>\n",
       "      <td>94.5</td>\n",
       "      <td>171.2</td>\n",
       "      <td>ohcv</td>\n",
       "      <td>six</td>\n",
       "      <td>154</td>\n",
       "      <td>19</td>\n",
       "      <td>16500.0</td>\n",
       "    </tr>\n",
       "    <tr>\n",
       "      <th>3</th>\n",
       "      <td>3</td>\n",
       "      <td>audi</td>\n",
       "      <td>sedan</td>\n",
       "      <td>99.8</td>\n",
       "      <td>176.6</td>\n",
       "      <td>ohc</td>\n",
       "      <td>four</td>\n",
       "      <td>102</td>\n",
       "      <td>24</td>\n",
       "      <td>13950.0</td>\n",
       "    </tr>\n",
       "    <tr>\n",
       "      <th>4</th>\n",
       "      <td>4</td>\n",
       "      <td>audi</td>\n",
       "      <td>sedan</td>\n",
       "      <td>99.4</td>\n",
       "      <td>176.6</td>\n",
       "      <td>ohc</td>\n",
       "      <td>five</td>\n",
       "      <td>115</td>\n",
       "      <td>18</td>\n",
       "      <td>17450.0</td>\n",
       "    </tr>\n",
       "  </tbody>\n",
       "</table>\n",
       "</div>"
      ],
      "text/plain": [
       "   index      company   body-style  wheel-base  length engine-type  \\\n",
       "0      0  alfa-romero  convertible        88.6   168.8        dohc   \n",
       "1      1  alfa-romero  convertible        88.6   168.8        dohc   \n",
       "2      2  alfa-romero    hatchback        94.5   171.2        ohcv   \n",
       "3      3         audi        sedan        99.8   176.6         ohc   \n",
       "4      4         audi        sedan        99.4   176.6         ohc   \n",
       "\n",
       "  num-of-cylinders  horsepower  average-mileage    price  \n",
       "0             four         111               21  13495.0  \n",
       "1             four         111               21  16500.0  \n",
       "2              six         154               19  16500.0  \n",
       "3             four         102               24  13950.0  \n",
       "4             five         115               18  17450.0  "
      ]
     },
     "execution_count": 3,
     "metadata": {},
     "output_type": "execute_result"
    }
   ],
   "source": [
    "auto.head()"
   ]
  },
  {
   "cell_type": "code",
   "execution_count": 4,
   "metadata": {},
   "outputs": [
    {
     "data": {
      "text/plain": [
       "(61, 10)"
      ]
     },
     "execution_count": 4,
     "metadata": {},
     "output_type": "execute_result"
    }
   ],
   "source": [
    "auto.shape"
   ]
  },
  {
   "cell_type": "code",
   "execution_count": null,
   "metadata": {},
   "outputs": [],
   "source": []
  },
  {
   "cell_type": "code",
   "execution_count": 5,
   "metadata": {},
   "outputs": [
    {
     "data": {
      "text/plain": [
       "index               0\n",
       "company             0\n",
       "body-style          0\n",
       "wheel-base          0\n",
       "length              0\n",
       "engine-type         0\n",
       "num-of-cylinders    0\n",
       "horsepower          0\n",
       "average-mileage     0\n",
       "price               3\n",
       "dtype: int64"
      ]
     },
     "execution_count": 5,
     "metadata": {},
     "output_type": "execute_result"
    }
   ],
   "source": [
    "auto.isnull().sum()"
   ]
  },
  {
   "cell_type": "code",
   "execution_count": 6,
   "metadata": {},
   "outputs": [
    {
     "data": {
      "text/plain": [
       "0"
      ]
     },
     "execution_count": 6,
     "metadata": {},
     "output_type": "execute_result"
    }
   ],
   "source": [
    "auto['price'] = auto['price'].fillna(auto['price'].mean())\n",
    "auto['price'].isnull().sum()"
   ]
  },
  {
   "cell_type": "code",
   "execution_count": 7,
   "metadata": {},
   "outputs": [],
   "source": [
    "# Most expensive car company name, details of all Toyota cars, total cars per company"
   ]
  },
  {
   "cell_type": "code",
   "execution_count": 8,
   "metadata": {},
   "outputs": [
    {
     "data": {
      "text/plain": [
       "45400.0"
      ]
     },
     "execution_count": 8,
     "metadata": {},
     "output_type": "execute_result"
    }
   ],
   "source": [
    "most_exp_car = auto['price'].max()\n",
    "most_exp_car"
   ]
  },
  {
   "cell_type": "code",
   "execution_count": 9,
   "metadata": {},
   "outputs": [
    {
     "data": {
      "text/html": [
       "<div>\n",
       "<style scoped>\n",
       "    .dataframe tbody tr th:only-of-type {\n",
       "        vertical-align: middle;\n",
       "    }\n",
       "\n",
       "    .dataframe tbody tr th {\n",
       "        vertical-align: top;\n",
       "    }\n",
       "\n",
       "    .dataframe thead th {\n",
       "        text-align: right;\n",
       "    }\n",
       "</style>\n",
       "<table border=\"1\" class=\"dataframe\">\n",
       "  <thead>\n",
       "    <tr style=\"text-align: right;\">\n",
       "      <th></th>\n",
       "      <th>company</th>\n",
       "      <th>price</th>\n",
       "    </tr>\n",
       "  </thead>\n",
       "  <tbody>\n",
       "    <tr>\n",
       "      <th>35</th>\n",
       "      <td>mercedes-benz</td>\n",
       "      <td>45400.0</td>\n",
       "    </tr>\n",
       "  </tbody>\n",
       "</table>\n",
       "</div>"
      ],
      "text/plain": [
       "          company    price\n",
       "35  mercedes-benz  45400.0"
      ]
     },
     "execution_count": 9,
     "metadata": {},
     "output_type": "execute_result"
    }
   ],
   "source": [
    "auto.loc[(auto['price']==most_exp_car),['company','price']]"
   ]
  },
  {
   "cell_type": "code",
   "execution_count": 10,
   "metadata": {},
   "outputs": [
    {
     "data": {
      "text/html": [
       "<div>\n",
       "<style scoped>\n",
       "    .dataframe tbody tr th:only-of-type {\n",
       "        vertical-align: middle;\n",
       "    }\n",
       "\n",
       "    .dataframe tbody tr th {\n",
       "        vertical-align: top;\n",
       "    }\n",
       "\n",
       "    .dataframe thead th {\n",
       "        text-align: right;\n",
       "    }\n",
       "</style>\n",
       "<table border=\"1\" class=\"dataframe\">\n",
       "  <thead>\n",
       "    <tr style=\"text-align: right;\">\n",
       "      <th></th>\n",
       "      <th>index</th>\n",
       "      <th>company</th>\n",
       "      <th>body-style</th>\n",
       "      <th>wheel-base</th>\n",
       "      <th>length</th>\n",
       "      <th>engine-type</th>\n",
       "      <th>num-of-cylinders</th>\n",
       "      <th>horsepower</th>\n",
       "      <th>average-mileage</th>\n",
       "      <th>price</th>\n",
       "    </tr>\n",
       "  </thead>\n",
       "  <tbody>\n",
       "    <tr>\n",
       "      <th>48</th>\n",
       "      <td>66</td>\n",
       "      <td>toyota</td>\n",
       "      <td>hatchback</td>\n",
       "      <td>95.7</td>\n",
       "      <td>158.7</td>\n",
       "      <td>ohc</td>\n",
       "      <td>four</td>\n",
       "      <td>62</td>\n",
       "      <td>35</td>\n",
       "      <td>5348.0</td>\n",
       "    </tr>\n",
       "    <tr>\n",
       "      <th>49</th>\n",
       "      <td>67</td>\n",
       "      <td>toyota</td>\n",
       "      <td>hatchback</td>\n",
       "      <td>95.7</td>\n",
       "      <td>158.7</td>\n",
       "      <td>ohc</td>\n",
       "      <td>four</td>\n",
       "      <td>62</td>\n",
       "      <td>31</td>\n",
       "      <td>6338.0</td>\n",
       "    </tr>\n",
       "    <tr>\n",
       "      <th>50</th>\n",
       "      <td>68</td>\n",
       "      <td>toyota</td>\n",
       "      <td>hatchback</td>\n",
       "      <td>95.7</td>\n",
       "      <td>158.7</td>\n",
       "      <td>ohc</td>\n",
       "      <td>four</td>\n",
       "      <td>62</td>\n",
       "      <td>31</td>\n",
       "      <td>6488.0</td>\n",
       "    </tr>\n",
       "    <tr>\n",
       "      <th>51</th>\n",
       "      <td>69</td>\n",
       "      <td>toyota</td>\n",
       "      <td>wagon</td>\n",
       "      <td>95.7</td>\n",
       "      <td>169.7</td>\n",
       "      <td>ohc</td>\n",
       "      <td>four</td>\n",
       "      <td>62</td>\n",
       "      <td>31</td>\n",
       "      <td>6918.0</td>\n",
       "    </tr>\n",
       "    <tr>\n",
       "      <th>52</th>\n",
       "      <td>70</td>\n",
       "      <td>toyota</td>\n",
       "      <td>wagon</td>\n",
       "      <td>95.7</td>\n",
       "      <td>169.7</td>\n",
       "      <td>ohc</td>\n",
       "      <td>four</td>\n",
       "      <td>62</td>\n",
       "      <td>27</td>\n",
       "      <td>7898.0</td>\n",
       "    </tr>\n",
       "    <tr>\n",
       "      <th>53</th>\n",
       "      <td>71</td>\n",
       "      <td>toyota</td>\n",
       "      <td>wagon</td>\n",
       "      <td>95.7</td>\n",
       "      <td>169.7</td>\n",
       "      <td>ohc</td>\n",
       "      <td>four</td>\n",
       "      <td>62</td>\n",
       "      <td>27</td>\n",
       "      <td>8778.0</td>\n",
       "    </tr>\n",
       "    <tr>\n",
       "      <th>54</th>\n",
       "      <td>79</td>\n",
       "      <td>toyota</td>\n",
       "      <td>wagon</td>\n",
       "      <td>104.5</td>\n",
       "      <td>187.8</td>\n",
       "      <td>dohc</td>\n",
       "      <td>six</td>\n",
       "      <td>156</td>\n",
       "      <td>19</td>\n",
       "      <td>15750.0</td>\n",
       "    </tr>\n",
       "  </tbody>\n",
       "</table>\n",
       "</div>"
      ],
      "text/plain": [
       "    index company body-style  wheel-base  length engine-type num-of-cylinders  \\\n",
       "48     66  toyota  hatchback        95.7   158.7         ohc             four   \n",
       "49     67  toyota  hatchback        95.7   158.7         ohc             four   \n",
       "50     68  toyota  hatchback        95.7   158.7         ohc             four   \n",
       "51     69  toyota      wagon        95.7   169.7         ohc             four   \n",
       "52     70  toyota      wagon        95.7   169.7         ohc             four   \n",
       "53     71  toyota      wagon        95.7   169.7         ohc             four   \n",
       "54     79  toyota      wagon       104.5   187.8        dohc              six   \n",
       "\n",
       "    horsepower  average-mileage    price  \n",
       "48          62               35   5348.0  \n",
       "49          62               31   6338.0  \n",
       "50          62               31   6488.0  \n",
       "51          62               31   6918.0  \n",
       "52          62               27   7898.0  \n",
       "53          62               27   8778.0  \n",
       "54         156               19  15750.0  "
      ]
     },
     "execution_count": 10,
     "metadata": {},
     "output_type": "execute_result"
    }
   ],
   "source": [
    "auto.loc[(auto['company']=='toyota')]"
   ]
  },
  {
   "cell_type": "code",
   "execution_count": 11,
   "metadata": {},
   "outputs": [
    {
     "data": {
      "text/plain": [
       "toyota           7\n",
       "bmw              6\n",
       "mazda            5\n",
       "nissan           5\n",
       "audi             4\n",
       "mercedes-benz    4\n",
       "volkswagen       4\n",
       "mitsubishi       4\n",
       "alfa-romero      3\n",
       "isuzu            3\n",
       "honda            3\n",
       "porsche          3\n",
       "chevrolet        3\n",
       "jaguar           3\n",
       "dodge            2\n",
       "volvo            2\n",
       "Name: company, dtype: int64"
      ]
     },
     "execution_count": 11,
     "metadata": {},
     "output_type": "execute_result"
    }
   ],
   "source": [
    "auto['company'].value_counts()"
   ]
  },
  {
   "cell_type": "code",
   "execution_count": 12,
   "metadata": {},
   "outputs": [],
   "source": [
    "# The car of each company which costs highest among other cars"
   ]
  },
  {
   "cell_type": "code",
   "execution_count": 13,
   "metadata": {},
   "outputs": [],
   "source": [
    "company_grp = auto.groupby('company')"
   ]
  },
  {
   "cell_type": "code",
   "execution_count": 14,
   "metadata": {},
   "outputs": [
    {
     "data": {
      "text/plain": [
       "company\n",
       "alfa-romero      16500.0\n",
       "audi             18920.0\n",
       "bmw              41315.0\n",
       "chevrolet         6575.0\n",
       "dodge             6377.0\n",
       "honda            12945.0\n",
       "isuzu            15387.0\n",
       "jaguar           36000.0\n",
       "mazda            18344.0\n",
       "mercedes-benz    45400.0\n",
       "mitsubishi        8189.0\n",
       "nissan           13499.0\n",
       "porsche          37028.0\n",
       "toyota           15750.0\n",
       "volkswagen        9995.0\n",
       "volvo            13415.0\n",
       "Name: price, dtype: float64"
      ]
     },
     "execution_count": 14,
     "metadata": {},
     "output_type": "execute_result"
    }
   ],
   "source": [
    "company_grp['price'].max()"
   ]
  },
  {
   "cell_type": "code",
   "execution_count": 15,
   "metadata": {},
   "outputs": [],
   "source": [
    "# the average mileage providing car company name"
   ]
  },
  {
   "cell_type": "code",
   "execution_count": 16,
   "metadata": {},
   "outputs": [],
   "source": [
    "company_avg_mil = auto.groupby('company')"
   ]
  },
  {
   "cell_type": "code",
   "execution_count": 17,
   "metadata": {},
   "outputs": [
    {
     "data": {
      "text/plain": [
       "company\n",
       "alfa-romero      20.333333\n",
       "audi             20.000000\n",
       "bmw              19.000000\n",
       "chevrolet        41.000000\n",
       "dodge            31.000000\n",
       "honda            26.333333\n",
       "isuzu            33.333333\n",
       "jaguar           14.333333\n",
       "mazda            28.000000\n",
       "mercedes-benz    18.000000\n",
       "mitsubishi       29.500000\n",
       "nissan           31.400000\n",
       "porsche          17.000000\n",
       "toyota           28.714286\n",
       "volkswagen       31.750000\n",
       "volvo            23.000000\n",
       "Name: average-mileage, dtype: float64"
      ]
     },
     "execution_count": 17,
     "metadata": {},
     "output_type": "execute_result"
    }
   ],
   "source": [
    "company_avg_mil['average-mileage'].mean()"
   ]
  },
  {
   "cell_type": "code",
   "execution_count": null,
   "metadata": {},
   "outputs": [],
   "source": []
  },
  {
   "cell_type": "code",
   "execution_count": 18,
   "metadata": {},
   "outputs": [],
   "source": [
    "# All companies producing the cars with 'num-of-cylinders'is equal to'six'"
   ]
  },
  {
   "cell_type": "code",
   "execution_count": 20,
   "metadata": {},
   "outputs": [
    {
     "data": {
      "text/plain": [
       "four      39\n",
       "six       11\n",
       "five       5\n",
       "eight      3\n",
       "twelve     1\n",
       "three      1\n",
       "two        1\n",
       "Name: num-of-cylinders, dtype: int64"
      ]
     },
     "execution_count": 20,
     "metadata": {},
     "output_type": "execute_result"
    }
   ],
   "source": [
    "auto['num-of-cylinders'].value_counts()"
   ]
  },
  {
   "cell_type": "code",
   "execution_count": 21,
   "metadata": {},
   "outputs": [
    {
     "data": {
      "text/html": [
       "<div>\n",
       "<style scoped>\n",
       "    .dataframe tbody tr th:only-of-type {\n",
       "        vertical-align: middle;\n",
       "    }\n",
       "\n",
       "    .dataframe tbody tr th {\n",
       "        vertical-align: top;\n",
       "    }\n",
       "\n",
       "    .dataframe thead th {\n",
       "        text-align: right;\n",
       "    }\n",
       "</style>\n",
       "<table border=\"1\" class=\"dataframe\">\n",
       "  <thead>\n",
       "    <tr style=\"text-align: right;\">\n",
       "      <th></th>\n",
       "      <th>index</th>\n",
       "      <th>company</th>\n",
       "      <th>body-style</th>\n",
       "      <th>wheel-base</th>\n",
       "      <th>length</th>\n",
       "      <th>engine-type</th>\n",
       "      <th>num-of-cylinders</th>\n",
       "      <th>horsepower</th>\n",
       "      <th>average-mileage</th>\n",
       "      <th>price</th>\n",
       "    </tr>\n",
       "  </thead>\n",
       "  <tbody>\n",
       "    <tr>\n",
       "      <th>2</th>\n",
       "      <td>2</td>\n",
       "      <td>alfa-romero</td>\n",
       "      <td>hatchback</td>\n",
       "      <td>94.5</td>\n",
       "      <td>171.2</td>\n",
       "      <td>ohcv</td>\n",
       "      <td>six</td>\n",
       "      <td>154</td>\n",
       "      <td>19</td>\n",
       "      <td>16500.0</td>\n",
       "    </tr>\n",
       "    <tr>\n",
       "      <th>9</th>\n",
       "      <td>11</td>\n",
       "      <td>bmw</td>\n",
       "      <td>sedan</td>\n",
       "      <td>101.2</td>\n",
       "      <td>176.8</td>\n",
       "      <td>ohc</td>\n",
       "      <td>six</td>\n",
       "      <td>121</td>\n",
       "      <td>21</td>\n",
       "      <td>20970.0</td>\n",
       "    </tr>\n",
       "    <tr>\n",
       "      <th>10</th>\n",
       "      <td>13</td>\n",
       "      <td>bmw</td>\n",
       "      <td>sedan</td>\n",
       "      <td>103.5</td>\n",
       "      <td>189.0</td>\n",
       "      <td>ohc</td>\n",
       "      <td>six</td>\n",
       "      <td>182</td>\n",
       "      <td>16</td>\n",
       "      <td>30760.0</td>\n",
       "    </tr>\n",
       "    <tr>\n",
       "      <th>11</th>\n",
       "      <td>14</td>\n",
       "      <td>bmw</td>\n",
       "      <td>sedan</td>\n",
       "      <td>103.5</td>\n",
       "      <td>193.8</td>\n",
       "      <td>ohc</td>\n",
       "      <td>six</td>\n",
       "      <td>182</td>\n",
       "      <td>16</td>\n",
       "      <td>41315.0</td>\n",
       "    </tr>\n",
       "    <tr>\n",
       "      <th>12</th>\n",
       "      <td>15</td>\n",
       "      <td>bmw</td>\n",
       "      <td>sedan</td>\n",
       "      <td>110.0</td>\n",
       "      <td>197.0</td>\n",
       "      <td>ohc</td>\n",
       "      <td>six</td>\n",
       "      <td>182</td>\n",
       "      <td>15</td>\n",
       "      <td>36880.0</td>\n",
       "    </tr>\n",
       "    <tr>\n",
       "      <th>24</th>\n",
       "      <td>33</td>\n",
       "      <td>jaguar</td>\n",
       "      <td>sedan</td>\n",
       "      <td>113.0</td>\n",
       "      <td>199.6</td>\n",
       "      <td>dohc</td>\n",
       "      <td>six</td>\n",
       "      <td>176</td>\n",
       "      <td>15</td>\n",
       "      <td>32250.0</td>\n",
       "    </tr>\n",
       "    <tr>\n",
       "      <th>25</th>\n",
       "      <td>34</td>\n",
       "      <td>jaguar</td>\n",
       "      <td>sedan</td>\n",
       "      <td>113.0</td>\n",
       "      <td>199.6</td>\n",
       "      <td>dohc</td>\n",
       "      <td>six</td>\n",
       "      <td>176</td>\n",
       "      <td>15</td>\n",
       "      <td>35550.0</td>\n",
       "    </tr>\n",
       "    <tr>\n",
       "      <th>44</th>\n",
       "      <td>57</td>\n",
       "      <td>nissan</td>\n",
       "      <td>sedan</td>\n",
       "      <td>100.4</td>\n",
       "      <td>184.6</td>\n",
       "      <td>ohcv</td>\n",
       "      <td>six</td>\n",
       "      <td>152</td>\n",
       "      <td>19</td>\n",
       "      <td>13499.0</td>\n",
       "    </tr>\n",
       "    <tr>\n",
       "      <th>45</th>\n",
       "      <td>61</td>\n",
       "      <td>porsche</td>\n",
       "      <td>hardtop</td>\n",
       "      <td>89.5</td>\n",
       "      <td>168.9</td>\n",
       "      <td>ohcf</td>\n",
       "      <td>six</td>\n",
       "      <td>207</td>\n",
       "      <td>17</td>\n",
       "      <td>34028.0</td>\n",
       "    </tr>\n",
       "    <tr>\n",
       "      <th>46</th>\n",
       "      <td>62</td>\n",
       "      <td>porsche</td>\n",
       "      <td>convertible</td>\n",
       "      <td>89.5</td>\n",
       "      <td>168.9</td>\n",
       "      <td>ohcf</td>\n",
       "      <td>six</td>\n",
       "      <td>207</td>\n",
       "      <td>17</td>\n",
       "      <td>37028.0</td>\n",
       "    </tr>\n",
       "    <tr>\n",
       "      <th>54</th>\n",
       "      <td>79</td>\n",
       "      <td>toyota</td>\n",
       "      <td>wagon</td>\n",
       "      <td>104.5</td>\n",
       "      <td>187.8</td>\n",
       "      <td>dohc</td>\n",
       "      <td>six</td>\n",
       "      <td>156</td>\n",
       "      <td>19</td>\n",
       "      <td>15750.0</td>\n",
       "    </tr>\n",
       "  </tbody>\n",
       "</table>\n",
       "</div>"
      ],
      "text/plain": [
       "    index      company   body-style  wheel-base  length engine-type  \\\n",
       "2       2  alfa-romero    hatchback        94.5   171.2        ohcv   \n",
       "9      11          bmw        sedan       101.2   176.8         ohc   \n",
       "10     13          bmw        sedan       103.5   189.0         ohc   \n",
       "11     14          bmw        sedan       103.5   193.8         ohc   \n",
       "12     15          bmw        sedan       110.0   197.0         ohc   \n",
       "24     33       jaguar        sedan       113.0   199.6        dohc   \n",
       "25     34       jaguar        sedan       113.0   199.6        dohc   \n",
       "44     57       nissan        sedan       100.4   184.6        ohcv   \n",
       "45     61      porsche      hardtop        89.5   168.9        ohcf   \n",
       "46     62      porsche  convertible        89.5   168.9        ohcf   \n",
       "54     79       toyota        wagon       104.5   187.8        dohc   \n",
       "\n",
       "   num-of-cylinders  horsepower  average-mileage    price  \n",
       "2               six         154               19  16500.0  \n",
       "9               six         121               21  20970.0  \n",
       "10              six         182               16  30760.0  \n",
       "11              six         182               16  41315.0  \n",
       "12              six         182               15  36880.0  \n",
       "24              six         176               15  32250.0  \n",
       "25              six         176               15  35550.0  \n",
       "44              six         152               19  13499.0  \n",
       "45              six         207               17  34028.0  \n",
       "46              six         207               17  37028.0  \n",
       "54              six         156               19  15750.0  "
      ]
     },
     "execution_count": 21,
     "metadata": {},
     "output_type": "execute_result"
    }
   ],
   "source": [
    "auto.loc[(auto['num-of-cylinders']=='six')]"
   ]
  },
  {
   "cell_type": "code",
   "execution_count": null,
   "metadata": {},
   "outputs": [],
   "source": []
  },
  {
   "cell_type": "code",
   "execution_count": 22,
   "metadata": {},
   "outputs": [],
   "source": [
    "# All comapnies details which are producing the cars with 'average-mileage' greater than or \n",
    "# equal to 35 and number of cylinders equal to four. "
   ]
  },
  {
   "cell_type": "code",
   "execution_count": 23,
   "metadata": {},
   "outputs": [
    {
     "data": {
      "text/html": [
       "<div>\n",
       "<style scoped>\n",
       "    .dataframe tbody tr th:only-of-type {\n",
       "        vertical-align: middle;\n",
       "    }\n",
       "\n",
       "    .dataframe tbody tr th {\n",
       "        vertical-align: top;\n",
       "    }\n",
       "\n",
       "    .dataframe thead th {\n",
       "        text-align: right;\n",
       "    }\n",
       "</style>\n",
       "<table border=\"1\" class=\"dataframe\">\n",
       "  <thead>\n",
       "    <tr style=\"text-align: right;\">\n",
       "      <th></th>\n",
       "      <th>index</th>\n",
       "      <th>company</th>\n",
       "      <th>body-style</th>\n",
       "      <th>wheel-base</th>\n",
       "      <th>length</th>\n",
       "      <th>engine-type</th>\n",
       "      <th>num-of-cylinders</th>\n",
       "      <th>horsepower</th>\n",
       "      <th>average-mileage</th>\n",
       "      <th>price</th>\n",
       "    </tr>\n",
       "  </thead>\n",
       "  <tbody>\n",
       "    <tr>\n",
       "      <th>14</th>\n",
       "      <td>17</td>\n",
       "      <td>chevrolet</td>\n",
       "      <td>hatchback</td>\n",
       "      <td>94.5</td>\n",
       "      <td>155.9</td>\n",
       "      <td>ohc</td>\n",
       "      <td>four</td>\n",
       "      <td>70</td>\n",
       "      <td>38</td>\n",
       "      <td>6295.0</td>\n",
       "    </tr>\n",
       "    <tr>\n",
       "      <th>15</th>\n",
       "      <td>18</td>\n",
       "      <td>chevrolet</td>\n",
       "      <td>sedan</td>\n",
       "      <td>94.5</td>\n",
       "      <td>158.8</td>\n",
       "      <td>ohc</td>\n",
       "      <td>four</td>\n",
       "      <td>70</td>\n",
       "      <td>38</td>\n",
       "      <td>6575.0</td>\n",
       "    </tr>\n",
       "    <tr>\n",
       "      <th>22</th>\n",
       "      <td>31</td>\n",
       "      <td>isuzu</td>\n",
       "      <td>sedan</td>\n",
       "      <td>94.5</td>\n",
       "      <td>155.9</td>\n",
       "      <td>ohc</td>\n",
       "      <td>four</td>\n",
       "      <td>70</td>\n",
       "      <td>38</td>\n",
       "      <td>15387.0</td>\n",
       "    </tr>\n",
       "    <tr>\n",
       "      <th>23</th>\n",
       "      <td>32</td>\n",
       "      <td>isuzu</td>\n",
       "      <td>sedan</td>\n",
       "      <td>94.5</td>\n",
       "      <td>155.9</td>\n",
       "      <td>ohc</td>\n",
       "      <td>four</td>\n",
       "      <td>70</td>\n",
       "      <td>38</td>\n",
       "      <td>15387.0</td>\n",
       "    </tr>\n",
       "    <tr>\n",
       "      <th>36</th>\n",
       "      <td>49</td>\n",
       "      <td>mitsubishi</td>\n",
       "      <td>hatchback</td>\n",
       "      <td>93.7</td>\n",
       "      <td>157.3</td>\n",
       "      <td>ohc</td>\n",
       "      <td>four</td>\n",
       "      <td>68</td>\n",
       "      <td>37</td>\n",
       "      <td>5389.0</td>\n",
       "    </tr>\n",
       "    <tr>\n",
       "      <th>40</th>\n",
       "      <td>53</td>\n",
       "      <td>nissan</td>\n",
       "      <td>sedan</td>\n",
       "      <td>94.5</td>\n",
       "      <td>165.3</td>\n",
       "      <td>ohc</td>\n",
       "      <td>four</td>\n",
       "      <td>55</td>\n",
       "      <td>45</td>\n",
       "      <td>7099.0</td>\n",
       "    </tr>\n",
       "    <tr>\n",
       "      <th>48</th>\n",
       "      <td>66</td>\n",
       "      <td>toyota</td>\n",
       "      <td>hatchback</td>\n",
       "      <td>95.7</td>\n",
       "      <td>158.7</td>\n",
       "      <td>ohc</td>\n",
       "      <td>four</td>\n",
       "      <td>62</td>\n",
       "      <td>35</td>\n",
       "      <td>5348.0</td>\n",
       "    </tr>\n",
       "    <tr>\n",
       "      <th>55</th>\n",
       "      <td>80</td>\n",
       "      <td>volkswagen</td>\n",
       "      <td>sedan</td>\n",
       "      <td>97.3</td>\n",
       "      <td>171.7</td>\n",
       "      <td>ohc</td>\n",
       "      <td>four</td>\n",
       "      <td>52</td>\n",
       "      <td>37</td>\n",
       "      <td>7775.0</td>\n",
       "    </tr>\n",
       "    <tr>\n",
       "      <th>57</th>\n",
       "      <td>82</td>\n",
       "      <td>volkswagen</td>\n",
       "      <td>sedan</td>\n",
       "      <td>97.3</td>\n",
       "      <td>171.7</td>\n",
       "      <td>ohc</td>\n",
       "      <td>four</td>\n",
       "      <td>52</td>\n",
       "      <td>37</td>\n",
       "      <td>7995.0</td>\n",
       "    </tr>\n",
       "  </tbody>\n",
       "</table>\n",
       "</div>"
      ],
      "text/plain": [
       "    index     company body-style  wheel-base  length engine-type  \\\n",
       "14     17   chevrolet  hatchback        94.5   155.9         ohc   \n",
       "15     18   chevrolet      sedan        94.5   158.8         ohc   \n",
       "22     31       isuzu      sedan        94.5   155.9         ohc   \n",
       "23     32       isuzu      sedan        94.5   155.9         ohc   \n",
       "36     49  mitsubishi  hatchback        93.7   157.3         ohc   \n",
       "40     53      nissan      sedan        94.5   165.3         ohc   \n",
       "48     66      toyota  hatchback        95.7   158.7         ohc   \n",
       "55     80  volkswagen      sedan        97.3   171.7         ohc   \n",
       "57     82  volkswagen      sedan        97.3   171.7         ohc   \n",
       "\n",
       "   num-of-cylinders  horsepower  average-mileage    price  \n",
       "14             four          70               38   6295.0  \n",
       "15             four          70               38   6575.0  \n",
       "22             four          70               38  15387.0  \n",
       "23             four          70               38  15387.0  \n",
       "36             four          68               37   5389.0  \n",
       "40             four          55               45   7099.0  \n",
       "48             four          62               35   5348.0  \n",
       "55             four          52               37   7775.0  \n",
       "57             four          52               37   7995.0  "
      ]
     },
     "execution_count": 23,
     "metadata": {},
     "output_type": "execute_result"
    }
   ],
   "source": [
    "auto.loc[(auto['average-mileage']>=35) & (auto['num-of-cylinders']=='four')]"
   ]
  },
  {
   "cell_type": "code",
   "execution_count": 24,
   "metadata": {},
   "outputs": [
    {
     "data": {
      "text/plain": [
       "9"
      ]
     },
     "execution_count": 24,
     "metadata": {},
     "output_type": "execute_result"
    }
   ],
   "source": [
    "len(auto.loc[(auto['average-mileage']>=35) & (auto['num-of-cylinders']=='four')])"
   ]
  },
  {
   "cell_type": "code",
   "execution_count": null,
   "metadata": {},
   "outputs": [],
   "source": []
  }
 ],
 "metadata": {
  "kernelspec": {
   "display_name": "Python 3",
   "language": "python",
   "name": "python3"
  },
  "language_info": {
   "codemirror_mode": {
    "name": "ipython",
    "version": 3
   },
   "file_extension": ".py",
   "mimetype": "text/x-python",
   "name": "python",
   "nbconvert_exporter": "python",
   "pygments_lexer": "ipython3",
   "version": "3.8.3"
  }
 },
 "nbformat": 4,
 "nbformat_minor": 4
}
