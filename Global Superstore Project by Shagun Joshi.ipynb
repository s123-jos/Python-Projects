{
 "cells": [
  {
   "cell_type": "code",
   "execution_count": 1,
   "metadata": {},
   "outputs": [],
   "source": [
    "import numpy as np\n",
    "import pandas as pd"
   ]
  },
  {
   "cell_type": "code",
   "execution_count": 2,
   "metadata": {},
   "outputs": [],
   "source": [
    "sup = pd.read_csv('global_superstore_2016.csv', encoding=('ISO-8859-1'))"
   ]
  },
  {
   "cell_type": "code",
   "execution_count": 3,
   "metadata": {},
   "outputs": [
    {
     "data": {
      "text/html": [
       "<div>\n",
       "<style scoped>\n",
       "    .dataframe tbody tr th:only-of-type {\n",
       "        vertical-align: middle;\n",
       "    }\n",
       "\n",
       "    .dataframe tbody tr th {\n",
       "        vertical-align: top;\n",
       "    }\n",
       "\n",
       "    .dataframe thead th {\n",
       "        text-align: right;\n",
       "    }\n",
       "</style>\n",
       "<table border=\"1\" class=\"dataframe\">\n",
       "  <thead>\n",
       "    <tr style=\"text-align: right;\">\n",
       "      <th></th>\n",
       "      <th>Row ID</th>\n",
       "      <th>Order ID</th>\n",
       "      <th>Order Date</th>\n",
       "      <th>Ship Date</th>\n",
       "      <th>Ship Mode</th>\n",
       "      <th>Customer ID</th>\n",
       "      <th>Customer Name</th>\n",
       "      <th>Segment</th>\n",
       "      <th>Postal Code</th>\n",
       "      <th>City</th>\n",
       "      <th>...</th>\n",
       "      <th>Product ID</th>\n",
       "      <th>Category</th>\n",
       "      <th>Sub-Category</th>\n",
       "      <th>Product Name</th>\n",
       "      <th>Sales</th>\n",
       "      <th>Quantity</th>\n",
       "      <th>Discount</th>\n",
       "      <th>Profit</th>\n",
       "      <th>Shipping Cost</th>\n",
       "      <th>Order Priority</th>\n",
       "    </tr>\n",
       "  </thead>\n",
       "  <tbody>\n",
       "    <tr>\n",
       "      <th>0</th>\n",
       "      <td>40098</td>\n",
       "      <td>CA-2014-AB10015140-41954</td>\n",
       "      <td>11-11-2014</td>\n",
       "      <td>11/13/2014</td>\n",
       "      <td>First Class</td>\n",
       "      <td>AB-100151402</td>\n",
       "      <td>Aaron Bergman</td>\n",
       "      <td>Consumer</td>\n",
       "      <td>73120.0</td>\n",
       "      <td>Oklahoma City</td>\n",
       "      <td>...</td>\n",
       "      <td>TEC-PH-5816</td>\n",
       "      <td>Technology</td>\n",
       "      <td>Phones</td>\n",
       "      <td>Samsung Convoy 3</td>\n",
       "      <td>$221.98</td>\n",
       "      <td>2</td>\n",
       "      <td>0.0</td>\n",
       "      <td>$62.15</td>\n",
       "      <td>40.77</td>\n",
       "      <td>High</td>\n",
       "    </tr>\n",
       "    <tr>\n",
       "      <th>1</th>\n",
       "      <td>26341</td>\n",
       "      <td>IN-2014-JR162107-41675</td>\n",
       "      <td>02-05-2014</td>\n",
       "      <td>02-07-2014</td>\n",
       "      <td>Second Class</td>\n",
       "      <td>JR-162107</td>\n",
       "      <td>Justin Ritter</td>\n",
       "      <td>Corporate</td>\n",
       "      <td>NaN</td>\n",
       "      <td>Wollongong</td>\n",
       "      <td>...</td>\n",
       "      <td>FUR-CH-5379</td>\n",
       "      <td>Furniture</td>\n",
       "      <td>Chairs</td>\n",
       "      <td>Novimex Executive Leather Armchair, Black</td>\n",
       "      <td>$3,709.40</td>\n",
       "      <td>9</td>\n",
       "      <td>0.1</td>\n",
       "      <td>($288.77)</td>\n",
       "      <td>923.63</td>\n",
       "      <td>Critical</td>\n",
       "    </tr>\n",
       "    <tr>\n",
       "      <th>2</th>\n",
       "      <td>25330</td>\n",
       "      <td>IN-2014-CR127307-41929</td>\n",
       "      <td>10/17/2014</td>\n",
       "      <td>10/18/2014</td>\n",
       "      <td>First Class</td>\n",
       "      <td>CR-127307</td>\n",
       "      <td>Craig Reiter</td>\n",
       "      <td>Consumer</td>\n",
       "      <td>NaN</td>\n",
       "      <td>Brisbane</td>\n",
       "      <td>...</td>\n",
       "      <td>TEC-PH-5356</td>\n",
       "      <td>Technology</td>\n",
       "      <td>Phones</td>\n",
       "      <td>Nokia Smart Phone, with Caller ID</td>\n",
       "      <td>$5,175.17</td>\n",
       "      <td>9</td>\n",
       "      <td>0.1</td>\n",
       "      <td>$919.97</td>\n",
       "      <td>915.49</td>\n",
       "      <td>Medium</td>\n",
       "    </tr>\n",
       "    <tr>\n",
       "      <th>3</th>\n",
       "      <td>13524</td>\n",
       "      <td>ES-2014-KM1637548-41667</td>\n",
       "      <td>1/28/2014</td>\n",
       "      <td>1/30/2014</td>\n",
       "      <td>First Class</td>\n",
       "      <td>KM-1637548</td>\n",
       "      <td>Katherine Murray</td>\n",
       "      <td>Home Office</td>\n",
       "      <td>NaN</td>\n",
       "      <td>Berlin</td>\n",
       "      <td>...</td>\n",
       "      <td>TEC-PH-5267</td>\n",
       "      <td>Technology</td>\n",
       "      <td>Phones</td>\n",
       "      <td>Motorola Smart Phone, Cordless</td>\n",
       "      <td>$2,892.51</td>\n",
       "      <td>5</td>\n",
       "      <td>0.1</td>\n",
       "      <td>($96.54)</td>\n",
       "      <td>910.16</td>\n",
       "      <td>Medium</td>\n",
       "    </tr>\n",
       "    <tr>\n",
       "      <th>4</th>\n",
       "      <td>47221</td>\n",
       "      <td>SG-2014-RH9495111-41948</td>\n",
       "      <td>11-05-2014</td>\n",
       "      <td>11-06-2014</td>\n",
       "      <td>Same Day</td>\n",
       "      <td>RH-9495111</td>\n",
       "      <td>Rick Hansen</td>\n",
       "      <td>Consumer</td>\n",
       "      <td>NaN</td>\n",
       "      <td>Dakar</td>\n",
       "      <td>...</td>\n",
       "      <td>TEC-CO-6011</td>\n",
       "      <td>Technology</td>\n",
       "      <td>Copiers</td>\n",
       "      <td>Sharp Wireless Fax, High-Speed</td>\n",
       "      <td>$2,832.96</td>\n",
       "      <td>8</td>\n",
       "      <td>0.0</td>\n",
       "      <td>$311.52</td>\n",
       "      <td>903.04</td>\n",
       "      <td>Critical</td>\n",
       "    </tr>\n",
       "    <tr>\n",
       "      <th>5</th>\n",
       "      <td>22732</td>\n",
       "      <td>IN-2014-JM156557-41818</td>\n",
       "      <td>6/28/2014</td>\n",
       "      <td>07-01-2014</td>\n",
       "      <td>Second Class</td>\n",
       "      <td>JM-156557</td>\n",
       "      <td>Jim Mitchum</td>\n",
       "      <td>Corporate</td>\n",
       "      <td>NaN</td>\n",
       "      <td>Sydney</td>\n",
       "      <td>...</td>\n",
       "      <td>TEC-PH-5842</td>\n",
       "      <td>Technology</td>\n",
       "      <td>Phones</td>\n",
       "      <td>Samsung Smart Phone, with Caller ID</td>\n",
       "      <td>$2,862.68</td>\n",
       "      <td>5</td>\n",
       "      <td>0.1</td>\n",
       "      <td>$763.28</td>\n",
       "      <td>897.35</td>\n",
       "      <td>Critical</td>\n",
       "    </tr>\n",
       "    <tr>\n",
       "      <th>6</th>\n",
       "      <td>30570</td>\n",
       "      <td>IN-2012-TS2134092-41219</td>\n",
       "      <td>11-06-2012</td>\n",
       "      <td>11-08-2012</td>\n",
       "      <td>First Class</td>\n",
       "      <td>TS-2134092</td>\n",
       "      <td>Toby Swindell</td>\n",
       "      <td>Consumer</td>\n",
       "      <td>NaN</td>\n",
       "      <td>Porirua</td>\n",
       "      <td>...</td>\n",
       "      <td>FUR-CH-5378</td>\n",
       "      <td>Furniture</td>\n",
       "      <td>Chairs</td>\n",
       "      <td>Novimex Executive Leather Armchair, Adjustable</td>\n",
       "      <td>$1,822.08</td>\n",
       "      <td>4</td>\n",
       "      <td>0.0</td>\n",
       "      <td>$564.84</td>\n",
       "      <td>894.77</td>\n",
       "      <td>Critical</td>\n",
       "    </tr>\n",
       "    <tr>\n",
       "      <th>7</th>\n",
       "      <td>31192</td>\n",
       "      <td>IN-2013-MB1808592-41378</td>\n",
       "      <td>4/14/2013</td>\n",
       "      <td>4/18/2013</td>\n",
       "      <td>Standard Class</td>\n",
       "      <td>MB-1808592</td>\n",
       "      <td>Mick Brown</td>\n",
       "      <td>Consumer</td>\n",
       "      <td>NaN</td>\n",
       "      <td>Hamilton</td>\n",
       "      <td>...</td>\n",
       "      <td>FUR-TA-3764</td>\n",
       "      <td>Furniture</td>\n",
       "      <td>Tables</td>\n",
       "      <td>Chromcraft Conference Table, Fully Assembled</td>\n",
       "      <td>$5,244.84</td>\n",
       "      <td>6</td>\n",
       "      <td>0.0</td>\n",
       "      <td>$996.48</td>\n",
       "      <td>878.38</td>\n",
       "      <td>High</td>\n",
       "    </tr>\n",
       "    <tr>\n",
       "      <th>8</th>\n",
       "      <td>40099</td>\n",
       "      <td>CA-2014-AB10015140-41954</td>\n",
       "      <td>11-11-2014</td>\n",
       "      <td>11/13/2014</td>\n",
       "      <td>First Class</td>\n",
       "      <td>AB-100151402</td>\n",
       "      <td>Aaron Bergman</td>\n",
       "      <td>Consumer</td>\n",
       "      <td>73120.0</td>\n",
       "      <td>Oklahoma City</td>\n",
       "      <td>...</td>\n",
       "      <td>FUR-BO-5957</td>\n",
       "      <td>Furniture</td>\n",
       "      <td>Bookcases</td>\n",
       "      <td>Sauder Facets Collection Library, Sky Alder Fi...</td>\n",
       "      <td>$341.96</td>\n",
       "      <td>2</td>\n",
       "      <td>0.0</td>\n",
       "      <td>$54.71</td>\n",
       "      <td>25.27</td>\n",
       "      <td>High</td>\n",
       "    </tr>\n",
       "    <tr>\n",
       "      <th>9</th>\n",
       "      <td>36258</td>\n",
       "      <td>CA-2012-AB10015140-40974</td>\n",
       "      <td>03-06-2012</td>\n",
       "      <td>03-07-2012</td>\n",
       "      <td>First Class</td>\n",
       "      <td>AB-100151404</td>\n",
       "      <td>Aaron Bergman</td>\n",
       "      <td>Consumer</td>\n",
       "      <td>98103.0</td>\n",
       "      <td>Seattle</td>\n",
       "      <td>...</td>\n",
       "      <td>FUR-CH-4421</td>\n",
       "      <td>Furniture</td>\n",
       "      <td>Chairs</td>\n",
       "      <td>Global Push Button Manager's Chair, Indigo</td>\n",
       "      <td>$48.71</td>\n",
       "      <td>1</td>\n",
       "      <td>0.2</td>\n",
       "      <td>$5.48</td>\n",
       "      <td>11.13</td>\n",
       "      <td>High</td>\n",
       "    </tr>\n",
       "  </tbody>\n",
       "</table>\n",
       "<p>10 rows × 24 columns</p>\n",
       "</div>"
      ],
      "text/plain": [
       "   Row ID                  Order ID  Order Date   Ship Date       Ship Mode  \\\n",
       "0   40098  CA-2014-AB10015140-41954  11-11-2014  11/13/2014     First Class   \n",
       "1   26341    IN-2014-JR162107-41675  02-05-2014  02-07-2014    Second Class   \n",
       "2   25330    IN-2014-CR127307-41929  10/17/2014  10/18/2014     First Class   \n",
       "3   13524   ES-2014-KM1637548-41667   1/28/2014   1/30/2014     First Class   \n",
       "4   47221   SG-2014-RH9495111-41948  11-05-2014  11-06-2014        Same Day   \n",
       "5   22732    IN-2014-JM156557-41818   6/28/2014  07-01-2014    Second Class   \n",
       "6   30570   IN-2012-TS2134092-41219  11-06-2012  11-08-2012     First Class   \n",
       "7   31192   IN-2013-MB1808592-41378   4/14/2013   4/18/2013  Standard Class   \n",
       "8   40099  CA-2014-AB10015140-41954  11-11-2014  11/13/2014     First Class   \n",
       "9   36258  CA-2012-AB10015140-40974  03-06-2012  03-07-2012     First Class   \n",
       "\n",
       "    Customer ID     Customer Name      Segment  Postal Code           City  \\\n",
       "0  AB-100151402     Aaron Bergman     Consumer      73120.0  Oklahoma City   \n",
       "1     JR-162107     Justin Ritter    Corporate          NaN     Wollongong   \n",
       "2     CR-127307      Craig Reiter     Consumer          NaN       Brisbane   \n",
       "3    KM-1637548  Katherine Murray  Home Office          NaN         Berlin   \n",
       "4    RH-9495111       Rick Hansen     Consumer          NaN          Dakar   \n",
       "5     JM-156557       Jim Mitchum    Corporate          NaN         Sydney   \n",
       "6    TS-2134092     Toby Swindell     Consumer          NaN        Porirua   \n",
       "7    MB-1808592        Mick Brown     Consumer          NaN       Hamilton   \n",
       "8  AB-100151402     Aaron Bergman     Consumer      73120.0  Oklahoma City   \n",
       "9  AB-100151404     Aaron Bergman     Consumer      98103.0        Seattle   \n",
       "\n",
       "   ...   Product ID    Category Sub-Category  \\\n",
       "0  ...  TEC-PH-5816  Technology       Phones   \n",
       "1  ...  FUR-CH-5379   Furniture       Chairs   \n",
       "2  ...  TEC-PH-5356  Technology       Phones   \n",
       "3  ...  TEC-PH-5267  Technology       Phones   \n",
       "4  ...  TEC-CO-6011  Technology      Copiers   \n",
       "5  ...  TEC-PH-5842  Technology       Phones   \n",
       "6  ...  FUR-CH-5378   Furniture       Chairs   \n",
       "7  ...  FUR-TA-3764   Furniture       Tables   \n",
       "8  ...  FUR-BO-5957   Furniture    Bookcases   \n",
       "9  ...  FUR-CH-4421   Furniture       Chairs   \n",
       "\n",
       "                                        Product Name       Sales Quantity  \\\n",
       "0                                   Samsung Convoy 3    $221.98         2   \n",
       "1          Novimex Executive Leather Armchair, Black  $3,709.40         9   \n",
       "2                  Nokia Smart Phone, with Caller ID  $5,175.17         9   \n",
       "3                     Motorola Smart Phone, Cordless  $2,892.51         5   \n",
       "4                     Sharp Wireless Fax, High-Speed  $2,832.96         8   \n",
       "5                Samsung Smart Phone, with Caller ID  $2,862.68         5   \n",
       "6     Novimex Executive Leather Armchair, Adjustable  $1,822.08         4   \n",
       "7       Chromcraft Conference Table, Fully Assembled  $5,244.84         6   \n",
       "8  Sauder Facets Collection Library, Sky Alder Fi...    $341.96         2   \n",
       "9         Global Push Button Manager's Chair, Indigo     $48.71         1   \n",
       "\n",
       "  Discount     Profit Shipping Cost  Order Priority  \n",
       "0      0.0    $62.15          40.77            High  \n",
       "1      0.1  ($288.77)        923.63        Critical  \n",
       "2      0.1   $919.97         915.49          Medium  \n",
       "3      0.1   ($96.54)        910.16          Medium  \n",
       "4      0.0   $311.52         903.04        Critical  \n",
       "5      0.1   $763.28         897.35        Critical  \n",
       "6      0.0   $564.84         894.77        Critical  \n",
       "7      0.0   $996.48         878.38            High  \n",
       "8      0.0    $54.71          25.27            High  \n",
       "9      0.2     $5.48          11.13            High  \n",
       "\n",
       "[10 rows x 24 columns]"
      ]
     },
     "execution_count": 3,
     "metadata": {},
     "output_type": "execute_result"
    }
   ],
   "source": [
    "sup.head(10)"
   ]
  },
  {
   "cell_type": "code",
   "execution_count": 4,
   "metadata": {},
   "outputs": [
    {
     "data": {
      "text/plain": [
       "(51290, 24)"
      ]
     },
     "execution_count": 4,
     "metadata": {},
     "output_type": "execute_result"
    }
   ],
   "source": [
    "sup.shape"
   ]
  },
  {
   "cell_type": "code",
   "execution_count": 5,
   "metadata": {},
   "outputs": [
    {
     "data": {
      "text/plain": [
       "Index(['Row ID', 'Order ID', 'Order Date', 'Ship Date', 'Ship Mode',\n",
       "       'Customer ID', 'Customer Name', 'Segment', 'Postal Code', 'City',\n",
       "       'State', 'Country', 'Region', 'Market', 'Product ID', 'Category',\n",
       "       'Sub-Category', 'Product Name', 'Sales', 'Quantity', 'Discount',\n",
       "       'Profit', 'Shipping Cost', 'Order Priority'],\n",
       "      dtype='object')"
      ]
     },
     "execution_count": 5,
     "metadata": {},
     "output_type": "execute_result"
    }
   ],
   "source": [
    "sup.columns"
   ]
  },
  {
   "cell_type": "code",
   "execution_count": 6,
   "metadata": {},
   "outputs": [
    {
     "data": {
      "text/plain": [
       "Row ID                0\n",
       "Order ID              0\n",
       "Order Date            0\n",
       "Ship Date             0\n",
       "Ship Mode             0\n",
       "Customer ID           0\n",
       "Customer Name         0\n",
       "Segment               0\n",
       "Postal Code       41296\n",
       "City                  0\n",
       "State                 0\n",
       "Country               0\n",
       "Region                0\n",
       "Market                0\n",
       "Product ID            0\n",
       "Category              0\n",
       "Sub-Category          0\n",
       "Product Name          0\n",
       "Sales                 0\n",
       "Quantity              0\n",
       "Discount              0\n",
       "Profit                0\n",
       "Shipping Cost         0\n",
       "Order Priority        0\n",
       "dtype: int64"
      ]
     },
     "execution_count": 6,
     "metadata": {},
     "output_type": "execute_result"
    }
   ],
   "source": [
    "sup.isnull().sum()"
   ]
  },
  {
   "cell_type": "code",
   "execution_count": 7,
   "metadata": {},
   "outputs": [
    {
     "name": "stdout",
     "output_type": "stream",
     "text": [
      "Row ID             0.00\n",
      "Order ID           0.00\n",
      "Order Date         0.00\n",
      "Ship Date          0.00\n",
      "Ship Mode          0.00\n",
      "Customer ID        0.00\n",
      "Customer Name      0.00\n",
      "Segment            0.00\n",
      "Postal Code       80.51\n",
      "City               0.00\n",
      "State              0.00\n",
      "Country            0.00\n",
      "Region             0.00\n",
      "Market             0.00\n",
      "Product ID         0.00\n",
      "Category           0.00\n",
      "Sub-Category       0.00\n",
      "Product Name       0.00\n",
      "Sales              0.00\n",
      "Quantity           0.00\n",
      "Discount           0.00\n",
      "Profit             0.00\n",
      "Shipping Cost      0.00\n",
      "Order Priority     0.00\n",
      "dtype: float64\n"
     ]
    }
   ],
   "source": [
    "percentage_of_missing_values = round(100*(sup.isnull().sum()/len(sup.index)),2)\n",
    "print(percentage_of_missing_values)"
   ]
  },
  {
   "cell_type": "code",
   "execution_count": 8,
   "metadata": {},
   "outputs": [
    {
     "data": {
      "text/html": [
       "<div>\n",
       "<style scoped>\n",
       "    .dataframe tbody tr th:only-of-type {\n",
       "        vertical-align: middle;\n",
       "    }\n",
       "\n",
       "    .dataframe tbody tr th {\n",
       "        vertical-align: top;\n",
       "    }\n",
       "\n",
       "    .dataframe thead th {\n",
       "        text-align: right;\n",
       "    }\n",
       "</style>\n",
       "<table border=\"1\" class=\"dataframe\">\n",
       "  <thead>\n",
       "    <tr style=\"text-align: right;\">\n",
       "      <th></th>\n",
       "      <th>Order ID</th>\n",
       "      <th>Ship Mode</th>\n",
       "      <th>Customer Name</th>\n",
       "      <th>Segment</th>\n",
       "      <th>City</th>\n",
       "      <th>State</th>\n",
       "      <th>Country</th>\n",
       "      <th>Region</th>\n",
       "      <th>Market</th>\n",
       "      <th>Product ID</th>\n",
       "      <th>Category</th>\n",
       "      <th>Sub-Category</th>\n",
       "      <th>Product Name</th>\n",
       "      <th>Sales</th>\n",
       "      <th>Quantity</th>\n",
       "      <th>Discount</th>\n",
       "      <th>Profit</th>\n",
       "      <th>Shipping Cost</th>\n",
       "      <th>Order Priority</th>\n",
       "    </tr>\n",
       "  </thead>\n",
       "  <tbody>\n",
       "    <tr>\n",
       "      <th>0</th>\n",
       "      <td>CA-2014-AB10015140-41954</td>\n",
       "      <td>First Class</td>\n",
       "      <td>Aaron Bergman</td>\n",
       "      <td>Consumer</td>\n",
       "      <td>Oklahoma City</td>\n",
       "      <td>Oklahoma</td>\n",
       "      <td>United States</td>\n",
       "      <td>Central US</td>\n",
       "      <td>USCA</td>\n",
       "      <td>TEC-PH-5816</td>\n",
       "      <td>Technology</td>\n",
       "      <td>Phones</td>\n",
       "      <td>Samsung Convoy 3</td>\n",
       "      <td>$221.98</td>\n",
       "      <td>2</td>\n",
       "      <td>0.0</td>\n",
       "      <td>$62.15</td>\n",
       "      <td>40.77</td>\n",
       "      <td>High</td>\n",
       "    </tr>\n",
       "    <tr>\n",
       "      <th>1</th>\n",
       "      <td>IN-2014-JR162107-41675</td>\n",
       "      <td>Second Class</td>\n",
       "      <td>Justin Ritter</td>\n",
       "      <td>Corporate</td>\n",
       "      <td>Wollongong</td>\n",
       "      <td>New South Wales</td>\n",
       "      <td>Australia</td>\n",
       "      <td>Oceania</td>\n",
       "      <td>Asia Pacific</td>\n",
       "      <td>FUR-CH-5379</td>\n",
       "      <td>Furniture</td>\n",
       "      <td>Chairs</td>\n",
       "      <td>Novimex Executive Leather Armchair, Black</td>\n",
       "      <td>$3,709.40</td>\n",
       "      <td>9</td>\n",
       "      <td>0.1</td>\n",
       "      <td>($288.77)</td>\n",
       "      <td>923.63</td>\n",
       "      <td>Critical</td>\n",
       "    </tr>\n",
       "  </tbody>\n",
       "</table>\n",
       "</div>"
      ],
      "text/plain": [
       "                   Order ID     Ship Mode  Customer Name    Segment  \\\n",
       "0  CA-2014-AB10015140-41954   First Class  Aaron Bergman   Consumer   \n",
       "1    IN-2014-JR162107-41675  Second Class  Justin Ritter  Corporate   \n",
       "\n",
       "            City            State        Country      Region        Market  \\\n",
       "0  Oklahoma City         Oklahoma  United States  Central US          USCA   \n",
       "1     Wollongong  New South Wales      Australia     Oceania  Asia Pacific   \n",
       "\n",
       "    Product ID    Category Sub-Category  \\\n",
       "0  TEC-PH-5816  Technology       Phones   \n",
       "1  FUR-CH-5379   Furniture       Chairs   \n",
       "\n",
       "                                Product Name       Sales  Quantity  Discount  \\\n",
       "0                           Samsung Convoy 3    $221.98          2       0.0   \n",
       "1  Novimex Executive Leather Armchair, Black  $3,709.40          9       0.1   \n",
       "\n",
       "      Profit  Shipping Cost Order Priority  \n",
       "0    $62.15           40.77           High  \n",
       "1  ($288.77)         923.63       Critical  "
      ]
     },
     "execution_count": 8,
     "metadata": {},
     "output_type": "execute_result"
    }
   ],
   "source": [
    "sup.drop(columns=['Row ID', 'Order Date', 'Ship Date', 'Customer ID', 'Postal Code'], inplace=True)\n",
    "sup.head(n=2)"
   ]
  },
  {
   "cell_type": "code",
   "execution_count": null,
   "metadata": {},
   "outputs": [],
   "source": []
  },
  {
   "cell_type": "markdown",
   "metadata": {},
   "source": [
    "**1-Total, how many orders have cross the shipping cost of 500?**"
   ]
  },
  {
   "cell_type": "code",
   "execution_count": 9,
   "metadata": {},
   "outputs": [
    {
     "data": {
      "text/plain": [
       "51290"
      ]
     },
     "execution_count": 9,
     "metadata": {},
     "output_type": "execute_result"
    }
   ],
   "source": [
    "sup['Shipping Cost'].value_counts().sum()"
   ]
  },
  {
   "cell_type": "code",
   "execution_count": 10,
   "metadata": {},
   "outputs": [
    {
     "data": {
      "text/plain": [
       "True"
      ]
     },
     "execution_count": 10,
     "metadata": {},
     "output_type": "execute_result"
    }
   ],
   "source": [
    "sup['Shipping Cost'].value_counts().sum()>500"
   ]
  },
  {
   "cell_type": "code",
   "execution_count": 11,
   "metadata": {},
   "outputs": [
    {
     "data": {
      "text/plain": [
       "False    51170\n",
       "True       120\n",
       "Name: Shipping Cost, dtype: int64"
      ]
     },
     "execution_count": 11,
     "metadata": {},
     "output_type": "execute_result"
    }
   ],
   "source": [
    "pd.value_counts(sup['Shipping Cost']>500)"
   ]
  },
  {
   "cell_type": "code",
   "execution_count": 12,
   "metadata": {},
   "outputs": [
    {
     "data": {
      "text/plain": [
       "120"
      ]
     },
     "execution_count": 12,
     "metadata": {},
     "output_type": "execute_result"
    }
   ],
   "source": [
    "sup.loc[sup['Shipping Cost'] > 500, 'Order ID'].count()"
   ]
  },
  {
   "cell_type": "markdown",
   "metadata": {},
   "source": [
    "**2-Count the number of segments, countries, regions, markets, categories, and sub-categories present in the global_superstore_2016 data.**"
   ]
  },
  {
   "cell_type": "code",
   "execution_count": 13,
   "metadata": {},
   "outputs": [
    {
     "data": {
      "text/html": [
       "<div>\n",
       "<style scoped>\n",
       "    .dataframe tbody tr th:only-of-type {\n",
       "        vertical-align: middle;\n",
       "    }\n",
       "\n",
       "    .dataframe tbody tr th {\n",
       "        vertical-align: top;\n",
       "    }\n",
       "\n",
       "    .dataframe thead th {\n",
       "        text-align: right;\n",
       "    }\n",
       "</style>\n",
       "<table border=\"1\" class=\"dataframe\">\n",
       "  <thead>\n",
       "    <tr style=\"text-align: right;\">\n",
       "      <th></th>\n",
       "      <th>Segment</th>\n",
       "      <th>Country</th>\n",
       "      <th>Region</th>\n",
       "      <th>Category</th>\n",
       "      <th>Market</th>\n",
       "      <th>Sub-Category</th>\n",
       "    </tr>\n",
       "  </thead>\n",
       "  <tbody>\n",
       "    <tr>\n",
       "      <th>0</th>\n",
       "      <td>Consumer</td>\n",
       "      <td>United States</td>\n",
       "      <td>Central US</td>\n",
       "      <td>Technology</td>\n",
       "      <td>USCA</td>\n",
       "      <td>Phones</td>\n",
       "    </tr>\n",
       "    <tr>\n",
       "      <th>1</th>\n",
       "      <td>Corporate</td>\n",
       "      <td>Australia</td>\n",
       "      <td>Oceania</td>\n",
       "      <td>Furniture</td>\n",
       "      <td>Asia Pacific</td>\n",
       "      <td>Chairs</td>\n",
       "    </tr>\n",
       "    <tr>\n",
       "      <th>2</th>\n",
       "      <td>Consumer</td>\n",
       "      <td>Australia</td>\n",
       "      <td>Oceania</td>\n",
       "      <td>Technology</td>\n",
       "      <td>Asia Pacific</td>\n",
       "      <td>Phones</td>\n",
       "    </tr>\n",
       "    <tr>\n",
       "      <th>3</th>\n",
       "      <td>Home Office</td>\n",
       "      <td>Germany</td>\n",
       "      <td>Western Europe</td>\n",
       "      <td>Technology</td>\n",
       "      <td>Europe</td>\n",
       "      <td>Phones</td>\n",
       "    </tr>\n",
       "    <tr>\n",
       "      <th>4</th>\n",
       "      <td>Consumer</td>\n",
       "      <td>Senegal</td>\n",
       "      <td>Western Africa</td>\n",
       "      <td>Technology</td>\n",
       "      <td>Africa</td>\n",
       "      <td>Copiers</td>\n",
       "    </tr>\n",
       "  </tbody>\n",
       "</table>\n",
       "</div>"
      ],
      "text/plain": [
       "       Segment        Country          Region    Category        Market  \\\n",
       "0     Consumer  United States      Central US  Technology          USCA   \n",
       "1    Corporate      Australia         Oceania   Furniture  Asia Pacific   \n",
       "2     Consumer      Australia         Oceania  Technology  Asia Pacific   \n",
       "3  Home Office        Germany  Western Europe  Technology        Europe   \n",
       "4     Consumer        Senegal  Western Africa  Technology        Africa   \n",
       "\n",
       "  Sub-Category  \n",
       "0       Phones  \n",
       "1       Chairs  \n",
       "2       Phones  \n",
       "3       Phones  \n",
       "4      Copiers  "
      ]
     },
     "execution_count": 13,
     "metadata": {},
     "output_type": "execute_result"
    }
   ],
   "source": [
    "sup[['Segment','Country','Region','Category','Market','Sub-Category']].head()"
   ]
  },
  {
   "cell_type": "code",
   "execution_count": 14,
   "metadata": {},
   "outputs": [
    {
     "data": {
      "text/plain": [
       "Consumer       26518\n",
       "Corporate      15429\n",
       "Home Office     9343\n",
       "Name: Segment, dtype: int64"
      ]
     },
     "execution_count": 14,
     "metadata": {},
     "output_type": "execute_result"
    }
   ],
   "source": [
    "sup['Segment'].value_counts()"
   ]
  },
  {
   "cell_type": "code",
   "execution_count": 15,
   "metadata": {},
   "outputs": [
    {
     "data": {
      "text/plain": [
       "165"
      ]
     },
     "execution_count": 15,
     "metadata": {},
     "output_type": "execute_result"
    }
   ],
   "source": [
    "len(sup['Country'].value_counts())"
   ]
  },
  {
   "cell_type": "code",
   "execution_count": 16,
   "metadata": {},
   "outputs": [
    {
     "name": "stdout",
     "output_type": "stream",
     "text": [
      "Western Europe       5883\n",
      "Central America      5616\n",
      "Oceania              3487\n",
      "Western US           3203\n",
      "Southeastern Asia    3129\n",
      "South America        2988\n",
      "Eastern US           2848\n",
      "Southern Asia        2655\n",
      "Western Asia         2440\n",
      "Eastern Asia         2374\n",
      "Central US           2323\n",
      "Northern Europe      2204\n",
      "Southern Europe      2113\n",
      "Caribbean            1690\n",
      "Southern US          1620\n",
      "Eastern Europe       1529\n",
      "Western Africa       1460\n",
      "North Africa         1278\n",
      "Eastern Africa        728\n",
      "Central Africa        643\n",
      "Southern Africa       478\n",
      "Canada                384\n",
      "Central Asia          217\n",
      "Name: Region, dtype: int64\n",
      "Number of Region: 23\n"
     ]
    }
   ],
   "source": [
    "print(sup['Region'].value_counts())\n",
    "print('Number of Region:',len(sup['Region'].value_counts()))"
   ]
  },
  {
   "cell_type": "code",
   "execution_count": 17,
   "metadata": {},
   "outputs": [
    {
     "data": {
      "text/plain": [
       "Office Supplies    31289\n",
       "Technology         10141\n",
       "Furniture           9860\n",
       "Name: Category, dtype: int64"
      ]
     },
     "execution_count": 17,
     "metadata": {},
     "output_type": "execute_result"
    }
   ],
   "source": [
    "sup['Category'].value_counts()"
   ]
  },
  {
   "cell_type": "code",
   "execution_count": 18,
   "metadata": {},
   "outputs": [
    {
     "data": {
      "text/plain": [
       "Asia Pacific    14302\n",
       "Europe          11729\n",
       "USCA            10378\n",
       "LATAM           10294\n",
       "Africa           4587\n",
       "Name: Market, dtype: int64"
      ]
     },
     "execution_count": 18,
     "metadata": {},
     "output_type": "execute_result"
    }
   ],
   "source": [
    "sup['Market'].value_counts()"
   ]
  },
  {
   "cell_type": "code",
   "execution_count": 19,
   "metadata": {},
   "outputs": [
    {
     "name": "stdout",
     "output_type": "stream",
     "text": [
      "Binders        6146\n",
      "Storage        5049\n",
      "Art            4864\n",
      "Paper          3492\n",
      "Chairs         3434\n",
      "Phones         3357\n",
      "Furnishings    3154\n",
      "Accessories    3075\n",
      "Labels         2601\n",
      "Fasteners      2601\n",
      "Bookcases      2411\n",
      "Supplies       2407\n",
      "Envelopes      2387\n",
      "Copiers        2223\n",
      "Appliances     1742\n",
      "Machines       1486\n",
      "Tables          861\n",
      "Name: Sub-Category, dtype: int64\n",
      "length og Sub-Category: 17\n"
     ]
    }
   ],
   "source": [
    "print(sup['Sub-Category'].value_counts())\n",
    "print('length og Sub-Category:',len(sup['Sub-Category'].value_counts()))"
   ]
  },
  {
   "cell_type": "code",
   "execution_count": null,
   "metadata": {},
   "outputs": [],
   "source": []
  },
  {
   "cell_type": "markdown",
   "metadata": {},
   "source": [
    "**3-Get the list of Order ID's where the Indian customer's have bought the things under the category 'Technology' after paying the Shipping Cost more than 500.**"
   ]
  },
  {
   "cell_type": "code",
   "execution_count": 20,
   "metadata": {},
   "outputs": [
    {
     "data": {
      "text/html": [
       "<div>\n",
       "<style scoped>\n",
       "    .dataframe tbody tr th:only-of-type {\n",
       "        vertical-align: middle;\n",
       "    }\n",
       "\n",
       "    .dataframe tbody tr th {\n",
       "        vertical-align: top;\n",
       "    }\n",
       "\n",
       "    .dataframe thead th {\n",
       "        text-align: right;\n",
       "    }\n",
       "</style>\n",
       "<table border=\"1\" class=\"dataframe\">\n",
       "  <thead>\n",
       "    <tr style=\"text-align: right;\">\n",
       "      <th></th>\n",
       "      <th>Order ID</th>\n",
       "      <th>Ship Mode</th>\n",
       "      <th>Customer Name</th>\n",
       "      <th>Segment</th>\n",
       "      <th>City</th>\n",
       "      <th>State</th>\n",
       "      <th>Country</th>\n",
       "      <th>Region</th>\n",
       "      <th>Market</th>\n",
       "      <th>Product ID</th>\n",
       "      <th>Category</th>\n",
       "      <th>Sub-Category</th>\n",
       "      <th>Product Name</th>\n",
       "      <th>Sales</th>\n",
       "      <th>Quantity</th>\n",
       "      <th>Discount</th>\n",
       "      <th>Profit</th>\n",
       "      <th>Shipping Cost</th>\n",
       "      <th>Order Priority</th>\n",
       "    </tr>\n",
       "  </thead>\n",
       "  <tbody>\n",
       "    <tr>\n",
       "      <th>41</th>\n",
       "      <td>IN-2015-BF1100558-42319</td>\n",
       "      <td>Standard Class</td>\n",
       "      <td>Barry Franz</td>\n",
       "      <td>Home Office</td>\n",
       "      <td>Gorakhpur</td>\n",
       "      <td>Haryana</td>\n",
       "      <td>India</td>\n",
       "      <td>Southern Asia</td>\n",
       "      <td>Asia Pacific</td>\n",
       "      <td>TEC-PH-5269</td>\n",
       "      <td>Technology</td>\n",
       "      <td>Phones</td>\n",
       "      <td>Motorola Smart Phone, with Caller ID</td>\n",
       "      <td>$4,518.78</td>\n",
       "      <td>7</td>\n",
       "      <td>0.0</td>\n",
       "      <td>$632.52</td>\n",
       "      <td>658.69</td>\n",
       "      <td>High</td>\n",
       "    </tr>\n",
       "    <tr>\n",
       "      <th>48</th>\n",
       "      <td>IN-2015-SW2027558-42125</td>\n",
       "      <td>Same Day</td>\n",
       "      <td>Scott Williamson</td>\n",
       "      <td>Consumer</td>\n",
       "      <td>Jamshedpur</td>\n",
       "      <td>Jharkhand</td>\n",
       "      <td>India</td>\n",
       "      <td>Southern Asia</td>\n",
       "      <td>Asia Pacific</td>\n",
       "      <td>TEC-MA-5007</td>\n",
       "      <td>Technology</td>\n",
       "      <td>Machines</td>\n",
       "      <td>Konica Inkjet, White</td>\n",
       "      <td>$2,174.13</td>\n",
       "      <td>7</td>\n",
       "      <td>0.0</td>\n",
       "      <td>$500.01</td>\n",
       "      <td>637.86</td>\n",
       "      <td>Critical</td>\n",
       "    </tr>\n",
       "    <tr>\n",
       "      <th>55</th>\n",
       "      <td>IN-2013-SG2047058-41424</td>\n",
       "      <td>First Class</td>\n",
       "      <td>Sheri Gordon</td>\n",
       "      <td>Consumer</td>\n",
       "      <td>Bhopal</td>\n",
       "      <td>Madhya Pradesh</td>\n",
       "      <td>India</td>\n",
       "      <td>Southern Asia</td>\n",
       "      <td>Asia Pacific</td>\n",
       "      <td>TEC-CO-4590</td>\n",
       "      <td>Technology</td>\n",
       "      <td>Copiers</td>\n",
       "      <td>Hewlett Wireless Fax, Color</td>\n",
       "      <td>$1,526.52</td>\n",
       "      <td>4</td>\n",
       "      <td>0.0</td>\n",
       "      <td>$732.72</td>\n",
       "      <td>625.77</td>\n",
       "      <td>Critical</td>\n",
       "    </tr>\n",
       "    <tr>\n",
       "      <th>90</th>\n",
       "      <td>IN-2013-GP1474058-41419</td>\n",
       "      <td>Second Class</td>\n",
       "      <td>Guy Phonely</td>\n",
       "      <td>Corporate</td>\n",
       "      <td>Delhi</td>\n",
       "      <td>Delhi</td>\n",
       "      <td>India</td>\n",
       "      <td>Southern Asia</td>\n",
       "      <td>Asia Pacific</td>\n",
       "      <td>TEC-PH-5356</td>\n",
       "      <td>Technology</td>\n",
       "      <td>Phones</td>\n",
       "      <td>Nokia Smart Phone, with Caller ID</td>\n",
       "      <td>$1,916.73</td>\n",
       "      <td>3</td>\n",
       "      <td>0.0</td>\n",
       "      <td>$498.33</td>\n",
       "      <td>548.40</td>\n",
       "      <td>Critical</td>\n",
       "    </tr>\n",
       "  </tbody>\n",
       "</table>\n",
       "</div>"
      ],
      "text/plain": [
       "                   Order ID       Ship Mode     Customer Name      Segment  \\\n",
       "41  IN-2015-BF1100558-42319  Standard Class       Barry Franz  Home Office   \n",
       "48  IN-2015-SW2027558-42125        Same Day  Scott Williamson     Consumer   \n",
       "55  IN-2013-SG2047058-41424     First Class      Sheri Gordon     Consumer   \n",
       "90  IN-2013-GP1474058-41419    Second Class       Guy Phonely    Corporate   \n",
       "\n",
       "          City           State Country         Region        Market  \\\n",
       "41   Gorakhpur         Haryana   India  Southern Asia  Asia Pacific   \n",
       "48  Jamshedpur       Jharkhand   India  Southern Asia  Asia Pacific   \n",
       "55      Bhopal  Madhya Pradesh   India  Southern Asia  Asia Pacific   \n",
       "90       Delhi           Delhi   India  Southern Asia  Asia Pacific   \n",
       "\n",
       "     Product ID    Category Sub-Category  \\\n",
       "41  TEC-PH-5269  Technology       Phones   \n",
       "48  TEC-MA-5007  Technology     Machines   \n",
       "55  TEC-CO-4590  Technology      Copiers   \n",
       "90  TEC-PH-5356  Technology       Phones   \n",
       "\n",
       "                            Product Name       Sales  Quantity  Discount  \\\n",
       "41  Motorola Smart Phone, with Caller ID  $4,518.78          7       0.0   \n",
       "48                  Konica Inkjet, White  $2,174.13          7       0.0   \n",
       "55           Hewlett Wireless Fax, Color  $1,526.52          4       0.0   \n",
       "90     Nokia Smart Phone, with Caller ID  $1,916.73          3       0.0   \n",
       "\n",
       "      Profit  Shipping Cost Order Priority  \n",
       "41  $632.52          658.69           High  \n",
       "48  $500.01          637.86       Critical  \n",
       "55  $732.72          625.77       Critical  \n",
       "90  $498.33          548.40       Critical  "
      ]
     },
     "execution_count": 20,
     "metadata": {},
     "output_type": "execute_result"
    }
   ],
   "source": [
    "sup.loc[(sup['Country']=='India') & (sup['Category']=='Technology') & (sup['Shipping Cost'] >500)]"
   ]
  },
  {
   "cell_type": "code",
   "execution_count": 21,
   "metadata": {},
   "outputs": [
    {
     "data": {
      "text/html": [
       "<div>\n",
       "<style scoped>\n",
       "    .dataframe tbody tr th:only-of-type {\n",
       "        vertical-align: middle;\n",
       "    }\n",
       "\n",
       "    .dataframe tbody tr th {\n",
       "        vertical-align: top;\n",
       "    }\n",
       "\n",
       "    .dataframe thead th {\n",
       "        text-align: right;\n",
       "    }\n",
       "</style>\n",
       "<table border=\"1\" class=\"dataframe\">\n",
       "  <thead>\n",
       "    <tr style=\"text-align: right;\">\n",
       "      <th></th>\n",
       "      <th>Order ID</th>\n",
       "    </tr>\n",
       "  </thead>\n",
       "  <tbody>\n",
       "    <tr>\n",
       "      <th>41</th>\n",
       "      <td>IN-2015-BF1100558-42319</td>\n",
       "    </tr>\n",
       "    <tr>\n",
       "      <th>48</th>\n",
       "      <td>IN-2015-SW2027558-42125</td>\n",
       "    </tr>\n",
       "    <tr>\n",
       "      <th>55</th>\n",
       "      <td>IN-2013-SG2047058-41424</td>\n",
       "    </tr>\n",
       "    <tr>\n",
       "      <th>90</th>\n",
       "      <td>IN-2013-GP1474058-41419</td>\n",
       "    </tr>\n",
       "  </tbody>\n",
       "</table>\n",
       "</div>"
      ],
      "text/plain": [
       "                   Order ID\n",
       "41  IN-2015-BF1100558-42319\n",
       "48  IN-2015-SW2027558-42125\n",
       "55  IN-2013-SG2047058-41424\n",
       "90  IN-2013-GP1474058-41419"
      ]
     },
     "execution_count": 21,
     "metadata": {},
     "output_type": "execute_result"
    }
   ],
   "source": [
    "sup.loc[(sup['Country']=='India') & (sup['Category']=='Technology') & (sup['Shipping Cost'] >500), ['Order ID']]"
   ]
  },
  {
   "cell_type": "code",
   "execution_count": null,
   "metadata": {},
   "outputs": [],
   "source": []
  },
  {
   "cell_type": "markdown",
   "metadata": {},
   "source": [
    "**4-Get the list of Order ID's where the Indian customer's have bought the things under the category 'Technology' the Sales greater than 500.**\n"
   ]
  },
  {
   "cell_type": "code",
   "execution_count": 22,
   "metadata": {},
   "outputs": [
    {
     "data": {
      "text/plain": [
       "Order ID           object\n",
       "Ship Mode          object\n",
       "Customer Name      object\n",
       "Segment            object\n",
       "City               object\n",
       "State              object\n",
       "Country            object\n",
       "Region             object\n",
       "Market             object\n",
       "Product ID         object\n",
       "Category           object\n",
       "Sub-Category       object\n",
       "Product Name       object\n",
       "Sales              object\n",
       "Quantity            int64\n",
       "Discount          float64\n",
       "Profit             object\n",
       "Shipping Cost     float64\n",
       "Order Priority     object\n",
       "dtype: object"
      ]
     },
     "execution_count": 22,
     "metadata": {},
     "output_type": "execute_result"
    }
   ],
   "source": [
    "sup.dtypes"
   ]
  },
  {
   "cell_type": "code",
   "execution_count": 23,
   "metadata": {},
   "outputs": [
    {
     "data": {
      "text/plain": [
       "0         221.98 \n",
       "1        3709.40 \n",
       "2        5175.17 \n",
       "3        2892.51 \n",
       "4        2832.96 \n",
       "           ...   \n",
       "51285      65.10 \n",
       "51286      16.72 \n",
       "51287       8.56 \n",
       "51288      13.44 \n",
       "51289      61.38 \n",
       "Name: Sales, Length: 51290, dtype: object"
      ]
     },
     "execution_count": 23,
     "metadata": {},
     "output_type": "execute_result"
    }
   ],
   "source": [
    "sup['Sales'] = sup['Sales'].str.replace('$','')\n",
    "sup['Sales'] = sup['Sales'].str.replace(',','')\n",
    "sup['Sales']"
   ]
  },
  {
   "cell_type": "code",
   "execution_count": 24,
   "metadata": {},
   "outputs": [],
   "source": [
    "sup['Sales'] = sup['Sales'].astype(float)"
   ]
  },
  {
   "cell_type": "code",
   "execution_count": 25,
   "metadata": {},
   "outputs": [
    {
     "data": {
      "text/plain": [
       "Order ID           object\n",
       "Ship Mode          object\n",
       "Customer Name      object\n",
       "Segment            object\n",
       "City               object\n",
       "State              object\n",
       "Country            object\n",
       "Region             object\n",
       "Market             object\n",
       "Product ID         object\n",
       "Category           object\n",
       "Sub-Category       object\n",
       "Product Name       object\n",
       "Sales             float64\n",
       "Quantity            int64\n",
       "Discount          float64\n",
       "Profit             object\n",
       "Shipping Cost     float64\n",
       "Order Priority     object\n",
       "dtype: object"
      ]
     },
     "execution_count": 25,
     "metadata": {},
     "output_type": "execute_result"
    }
   ],
   "source": [
    "sup.dtypes"
   ]
  },
  {
   "cell_type": "code",
   "execution_count": null,
   "metadata": {},
   "outputs": [],
   "source": []
  },
  {
   "cell_type": "code",
   "execution_count": 26,
   "metadata": {},
   "outputs": [
    {
     "data": {
      "text/html": [
       "<div>\n",
       "<style scoped>\n",
       "    .dataframe tbody tr th:only-of-type {\n",
       "        vertical-align: middle;\n",
       "    }\n",
       "\n",
       "    .dataframe tbody tr th {\n",
       "        vertical-align: top;\n",
       "    }\n",
       "\n",
       "    .dataframe thead th {\n",
       "        text-align: right;\n",
       "    }\n",
       "</style>\n",
       "<table border=\"1\" class=\"dataframe\">\n",
       "  <thead>\n",
       "    <tr style=\"text-align: right;\">\n",
       "      <th></th>\n",
       "      <th>Order ID</th>\n",
       "    </tr>\n",
       "  </thead>\n",
       "  <tbody>\n",
       "    <tr>\n",
       "      <th>41</th>\n",
       "      <td>IN-2015-BF1100558-42319</td>\n",
       "    </tr>\n",
       "    <tr>\n",
       "      <th>48</th>\n",
       "      <td>IN-2015-SW2027558-42125</td>\n",
       "    </tr>\n",
       "    <tr>\n",
       "      <th>55</th>\n",
       "      <td>IN-2013-SG2047058-41424</td>\n",
       "    </tr>\n",
       "    <tr>\n",
       "      <th>90</th>\n",
       "      <td>IN-2013-GP1474058-41419</td>\n",
       "    </tr>\n",
       "    <tr>\n",
       "      <th>130</th>\n",
       "      <td>IN-2014-SV2081558-41968</td>\n",
       "    </tr>\n",
       "    <tr>\n",
       "      <th>...</th>\n",
       "      <td>...</td>\n",
       "    </tr>\n",
       "    <tr>\n",
       "      <th>14874</th>\n",
       "      <td>IN-2013-ML1826558-41503</td>\n",
       "    </tr>\n",
       "    <tr>\n",
       "      <th>15236</th>\n",
       "      <td>IN-2015-HG1484558-42339</td>\n",
       "    </tr>\n",
       "    <tr>\n",
       "      <th>23250</th>\n",
       "      <td>IN-2013-MA1799558-41565</td>\n",
       "    </tr>\n",
       "    <tr>\n",
       "      <th>24316</th>\n",
       "      <td>IN-2012-DP1316558-41173</td>\n",
       "    </tr>\n",
       "    <tr>\n",
       "      <th>35903</th>\n",
       "      <td>IN-2013-JS1568558-41371</td>\n",
       "    </tr>\n",
       "  </tbody>\n",
       "</table>\n",
       "<p>163 rows × 1 columns</p>\n",
       "</div>"
      ],
      "text/plain": [
       "                      Order ID\n",
       "41     IN-2015-BF1100558-42319\n",
       "48     IN-2015-SW2027558-42125\n",
       "55     IN-2013-SG2047058-41424\n",
       "90     IN-2013-GP1474058-41419\n",
       "130    IN-2014-SV2081558-41968\n",
       "...                        ...\n",
       "14874  IN-2013-ML1826558-41503\n",
       "15236  IN-2015-HG1484558-42339\n",
       "23250  IN-2013-MA1799558-41565\n",
       "24316  IN-2012-DP1316558-41173\n",
       "35903  IN-2013-JS1568558-41371\n",
       "\n",
       "[163 rows x 1 columns]"
      ]
     },
     "execution_count": 26,
     "metadata": {},
     "output_type": "execute_result"
    }
   ],
   "source": [
    "sup.loc[(sup['Country']=='India') & (sup['Category']=='Technology') & (sup['Sales'] >500), ['Order ID']]"
   ]
  },
  {
   "cell_type": "code",
   "execution_count": null,
   "metadata": {},
   "outputs": [],
   "source": []
  },
  {
   "cell_type": "markdown",
   "metadata": {},
   "source": [
    "**5-How many people from the State 'Karnataka' have bought the things under the category 'Technology'?**"
   ]
  },
  {
   "cell_type": "code",
   "execution_count": 31,
   "metadata": {},
   "outputs": [
    {
     "data": {
      "text/plain": [
       "21"
      ]
     },
     "execution_count": 31,
     "metadata": {},
     "output_type": "execute_result"
    }
   ],
   "source": [
    "sup.loc[(sup['State']=='Karnataka') & (sup['Category']=='Technology'),'Order ID'].count()"
   ]
  },
  {
   "cell_type": "code",
   "execution_count": 30,
   "metadata": {},
   "outputs": [
    {
     "data": {
      "text/html": [
       "<div>\n",
       "<style scoped>\n",
       "    .dataframe tbody tr th:only-of-type {\n",
       "        vertical-align: middle;\n",
       "    }\n",
       "\n",
       "    .dataframe tbody tr th {\n",
       "        vertical-align: top;\n",
       "    }\n",
       "\n",
       "    .dataframe thead th {\n",
       "        text-align: right;\n",
       "    }\n",
       "</style>\n",
       "<table border=\"1\" class=\"dataframe\">\n",
       "  <thead>\n",
       "    <tr style=\"text-align: right;\">\n",
       "      <th></th>\n",
       "      <th>Order ID</th>\n",
       "      <th>Ship Mode</th>\n",
       "      <th>Customer Name</th>\n",
       "      <th>Segment</th>\n",
       "      <th>City</th>\n",
       "      <th>State</th>\n",
       "      <th>Country</th>\n",
       "      <th>Region</th>\n",
       "      <th>Market</th>\n",
       "      <th>Product ID</th>\n",
       "      <th>Category</th>\n",
       "      <th>Sub-Category</th>\n",
       "      <th>Product Name</th>\n",
       "      <th>Sales</th>\n",
       "      <th>Quantity</th>\n",
       "      <th>Discount</th>\n",
       "      <th>Profit</th>\n",
       "      <th>Shipping Cost</th>\n",
       "      <th>Order Priority</th>\n",
       "    </tr>\n",
       "  </thead>\n",
       "  <tbody>\n",
       "    <tr>\n",
       "      <th>408</th>\n",
       "      <td>IN-2015-CY1274558-42300</td>\n",
       "      <td>First Class</td>\n",
       "      <td>Craig Yedwab</td>\n",
       "      <td>Corporate</td>\n",
       "      <td>Bangalore</td>\n",
       "      <td>Karnataka</td>\n",
       "      <td>India</td>\n",
       "      <td>Southern Asia</td>\n",
       "      <td>Asia Pacific</td>\n",
       "      <td>TEC-CO-4578</td>\n",
       "      <td>Technology</td>\n",
       "      <td>Copiers</td>\n",
       "      <td>Hewlett Fax Machine, Laser</td>\n",
       "      <td>959.76</td>\n",
       "      <td>3</td>\n",
       "      <td>0.0</td>\n",
       "      <td>$460.62</td>\n",
       "      <td>317.81</td>\n",
       "      <td>Critical</td>\n",
       "    </tr>\n",
       "    <tr>\n",
       "      <th>782</th>\n",
       "      <td>IN-2015-JW1522058-42101</td>\n",
       "      <td>Standard Class</td>\n",
       "      <td>Jane Waco</td>\n",
       "      <td>Corporate</td>\n",
       "      <td>Mangalore</td>\n",
       "      <td>Karnataka</td>\n",
       "      <td>India</td>\n",
       "      <td>Southern Asia</td>\n",
       "      <td>Asia Pacific</td>\n",
       "      <td>TEC-PH-3807</td>\n",
       "      <td>Technology</td>\n",
       "      <td>Phones</td>\n",
       "      <td>Cisco Smart Phone, with Caller ID</td>\n",
       "      <td>3271.20</td>\n",
       "      <td>5</td>\n",
       "      <td>0.0</td>\n",
       "      <td>$1,341.15</td>\n",
       "      <td>232.45</td>\n",
       "      <td>High</td>\n",
       "    </tr>\n",
       "    <tr>\n",
       "      <th>1957</th>\n",
       "      <td>IN-2014-RA1928558-41863</td>\n",
       "      <td>Standard Class</td>\n",
       "      <td>Ralph Arnett</td>\n",
       "      <td>Consumer</td>\n",
       "      <td>Mangalore</td>\n",
       "      <td>Karnataka</td>\n",
       "      <td>India</td>\n",
       "      <td>Southern Asia</td>\n",
       "      <td>Asia Pacific</td>\n",
       "      <td>TEC-CO-4791</td>\n",
       "      <td>Technology</td>\n",
       "      <td>Copiers</td>\n",
       "      <td>HP Wireless Fax, High-Speed</td>\n",
       "      <td>1075.23</td>\n",
       "      <td>3</td>\n",
       "      <td>0.0</td>\n",
       "      <td>$344.07</td>\n",
       "      <td>136.45</td>\n",
       "      <td>High</td>\n",
       "    </tr>\n",
       "    <tr>\n",
       "      <th>2364</th>\n",
       "      <td>IN-2014-BO1135058-41783</td>\n",
       "      <td>Standard Class</td>\n",
       "      <td>Bill Overfelt</td>\n",
       "      <td>Corporate</td>\n",
       "      <td>Bangalore</td>\n",
       "      <td>Karnataka</td>\n",
       "      <td>India</td>\n",
       "      <td>Southern Asia</td>\n",
       "      <td>Asia Pacific</td>\n",
       "      <td>TEC-CO-3608</td>\n",
       "      <td>Technology</td>\n",
       "      <td>Copiers</td>\n",
       "      <td>Brother Wireless Fax, Color</td>\n",
       "      <td>1140.75</td>\n",
       "      <td>3</td>\n",
       "      <td>0.0</td>\n",
       "      <td>$0.00</td>\n",
       "      <td>119.46</td>\n",
       "      <td>Medium</td>\n",
       "    </tr>\n",
       "    <tr>\n",
       "      <th>3200</th>\n",
       "      <td>IN-2014-CM1238558-41755</td>\n",
       "      <td>Second Class</td>\n",
       "      <td>Christopher Martinez</td>\n",
       "      <td>Consumer</td>\n",
       "      <td>Bangalore</td>\n",
       "      <td>Karnataka</td>\n",
       "      <td>India</td>\n",
       "      <td>Southern Asia</td>\n",
       "      <td>Asia Pacific</td>\n",
       "      <td>TEC-CO-4769</td>\n",
       "      <td>Technology</td>\n",
       "      <td>Copiers</td>\n",
       "      <td>HP Fax and Copier, Color</td>\n",
       "      <td>697.32</td>\n",
       "      <td>4</td>\n",
       "      <td>0.0</td>\n",
       "      <td>$292.80</td>\n",
       "      <td>94.93</td>\n",
       "      <td>High</td>\n",
       "    </tr>\n",
       "  </tbody>\n",
       "</table>\n",
       "</div>"
      ],
      "text/plain": [
       "                     Order ID       Ship Mode         Customer Name  \\\n",
       "408   IN-2015-CY1274558-42300     First Class          Craig Yedwab   \n",
       "782   IN-2015-JW1522058-42101  Standard Class             Jane Waco   \n",
       "1957  IN-2014-RA1928558-41863  Standard Class          Ralph Arnett   \n",
       "2364  IN-2014-BO1135058-41783  Standard Class         Bill Overfelt   \n",
       "3200  IN-2014-CM1238558-41755    Second Class  Christopher Martinez   \n",
       "\n",
       "        Segment       City      State Country         Region        Market  \\\n",
       "408   Corporate  Bangalore  Karnataka   India  Southern Asia  Asia Pacific   \n",
       "782   Corporate  Mangalore  Karnataka   India  Southern Asia  Asia Pacific   \n",
       "1957   Consumer  Mangalore  Karnataka   India  Southern Asia  Asia Pacific   \n",
       "2364  Corporate  Bangalore  Karnataka   India  Southern Asia  Asia Pacific   \n",
       "3200   Consumer  Bangalore  Karnataka   India  Southern Asia  Asia Pacific   \n",
       "\n",
       "       Product ID    Category Sub-Category                       Product Name  \\\n",
       "408   TEC-CO-4578  Technology      Copiers         Hewlett Fax Machine, Laser   \n",
       "782   TEC-PH-3807  Technology       Phones  Cisco Smart Phone, with Caller ID   \n",
       "1957  TEC-CO-4791  Technology      Copiers        HP Wireless Fax, High-Speed   \n",
       "2364  TEC-CO-3608  Technology      Copiers        Brother Wireless Fax, Color   \n",
       "3200  TEC-CO-4769  Technology      Copiers           HP Fax and Copier, Color   \n",
       "\n",
       "        Sales  Quantity  Discount      Profit  Shipping Cost Order Priority  \n",
       "408    959.76         3       0.0    $460.62          317.81       Critical  \n",
       "782   3271.20         5       0.0  $1,341.15          232.45           High  \n",
       "1957  1075.23         3       0.0    $344.07          136.45           High  \n",
       "2364  1140.75         3       0.0      $0.00          119.46         Medium  \n",
       "3200   697.32         4       0.0    $292.80           94.93           High  "
      ]
     },
     "execution_count": 30,
     "metadata": {},
     "output_type": "execute_result"
    }
   ],
   "source": [
    "sup.loc[(sup['State']=='Karnataka') & (sup['Category']=='Technology')][:5]"
   ]
  },
  {
   "cell_type": "code",
   "execution_count": null,
   "metadata": {},
   "outputs": [],
   "source": []
  },
  {
   "cell_type": "markdown",
   "metadata": {},
   "source": [
    "**6-Get the list of countries where the 'Profit' and 'Shipping Cost's are greater than or equal to 2000 and 300 respectively.**\n"
   ]
  },
  {
   "cell_type": "code",
   "execution_count": null,
   "metadata": {},
   "outputs": [],
   "source": [
    "sup['Profit'] = sup['Profit'].str.replace('$','')\n",
    "#sup['Profit'] = sup['Profit'].astype(float)\n",
    "sup['Profit'] = sup['Profit'].str.replace('(','')\n",
    "sup['Profit'] = sup['Profit'].str.replace(')','')\n",
    "sup['Profit'] = sup['Profit'].str.replace(',','')\n",
    "\n",
    "sup['Profit']"
   ]
  },
  {
   "cell_type": "code",
   "execution_count": null,
   "metadata": {},
   "outputs": [],
   "source": [
    "sup['Profit'] = sup['Profit'].astype(float)"
   ]
  },
  {
   "cell_type": "code",
   "execution_count": null,
   "metadata": {},
   "outputs": [],
   "source": [
    "cond1 = (sup['Profit'] >= 2000) & (sup['Shipping Cost'] >= 300)\n",
    "global_country = sup[cond1]"
   ]
  },
  {
   "cell_type": "code",
   "execution_count": null,
   "metadata": {},
   "outputs": [],
   "source": [
    "global_country[:5]"
   ]
  },
  {
   "cell_type": "code",
   "execution_count": null,
   "metadata": {},
   "outputs": [],
   "source": [
    "global_country['Country']"
   ]
  },
  {
   "cell_type": "code",
   "execution_count": null,
   "metadata": {},
   "outputs": [],
   "source": [
    "list_of_country = global_country['Country'].drop_duplicates().tolist()\n",
    "list_of_country"
   ]
  },
  {
   "cell_type": "code",
   "execution_count": null,
   "metadata": {},
   "outputs": [],
   "source": []
  },
  {
   "cell_type": "markdown",
   "metadata": {},
   "source": [
    "**7-Find the list of Indian states where the people have purchased the things under the category Technology.**\n"
   ]
  },
  {
   "cell_type": "code",
   "execution_count": null,
   "metadata": {},
   "outputs": [],
   "source": [
    "sup.loc[(sup[\"Country\"]==\"India\") & (sup[\"Category\"]==\"Technology\")]"
   ]
  },
  {
   "cell_type": "code",
   "execution_count": null,
   "metadata": {},
   "outputs": [],
   "source": [
    "sup.loc[(sup['Country']=='India') & (sup[\"Category\"]=='Technology')]['State'].drop_duplicates().tolist()"
   ]
  },
  {
   "cell_type": "code",
   "execution_count": null,
   "metadata": {},
   "outputs": [],
   "source": []
  },
  {
   "cell_type": "markdown",
   "metadata": {},
   "source": [
    "**8-Find the overall rank of \"India\" where the 'Profit' is maximum under the category 'Technology'.**\n"
   ]
  },
  {
   "cell_type": "code",
   "execution_count": null,
   "metadata": {},
   "outputs": [],
   "source": [
    "print(\"Max Profit:\", max(sup['Profit']))\n",
    "print(\"Min Profit:\", min(sup['Profit']))"
   ]
  },
  {
   "cell_type": "code",
   "execution_count": null,
   "metadata": {},
   "outputs": [],
   "source": [
    "condition_top_countries = (sup['Profit']>0) & (sup['Category']=='Technology')"
   ]
  },
  {
   "cell_type": "code",
   "execution_count": null,
   "metadata": {},
   "outputs": [],
   "source": [
    "g_countries = sup[condition_top_countries]\n",
    "g_countries.shape"
   ]
  },
  {
   "cell_type": "code",
   "execution_count": null,
   "metadata": {},
   "outputs": [],
   "source": [
    "sort_g_countries = g_countries.sort_values(by=['Profit'], ascending=False)\n",
    "sort_g_countries.head()"
   ]
  },
  {
   "cell_type": "code",
   "execution_count": null,
   "metadata": {},
   "outputs": [],
   "source": [
    "sort_g_countries['Country']"
   ]
  },
  {
   "cell_type": "code",
   "execution_count": null,
   "metadata": {},
   "outputs": [],
   "source": [
    "list_of_country_top_profit = sort_g_countries['Country'].drop_duplicates().tolist()\n",
    "list_of_country_top_profit"
   ]
  },
  {
   "cell_type": "code",
   "execution_count": null,
   "metadata": {},
   "outputs": [],
   "source": [
    "ranked_data = sort_g_countries['Country'].drop_duplicates().rank(ascending=False, method='average' )\n",
    "ranked_data"
   ]
  },
  {
   "cell_type": "code",
   "execution_count": null,
   "metadata": {},
   "outputs": [],
   "source": [
    "ranked_countries = sort_g_countries['Country'].drop_duplicates()"
   ]
  },
  {
   "cell_type": "code",
   "execution_count": null,
   "metadata": {},
   "outputs": [],
   "source": [
    "ranked_series = pd.concat([ranked_countries, ranked_data],axis=1)\n",
    "ranked_series"
   ]
  },
  {
   "cell_type": "code",
   "execution_count": null,
   "metadata": {},
   "outputs": [],
   "source": []
  },
  {
   "cell_type": "markdown",
   "metadata": {},
   "source": [
    "**9-Display the data with min, max, average and std of 'Profit' & 'Sales' for each Sub-Category under each Category.**"
   ]
  },
  {
   "cell_type": "code",
   "execution_count": null,
   "metadata": {},
   "outputs": [],
   "source": [
    "grouped_data = sup.groupby(by=['Country','Category','Sub-Category'],as_index=True)"
   ]
  },
  {
   "cell_type": "code",
   "execution_count": null,
   "metadata": {},
   "outputs": [],
   "source": [
    "functions = [('min_value', 'min'), ('max_value', 'max'), ('mean_value','mean'), ('std_value', 'std')]"
   ]
  },
  {
   "cell_type": "code",
   "execution_count": null,
   "metadata": {},
   "outputs": [],
   "source": [
    "grouped_data['Sales', 'Profit'].agg(functions)"
   ]
  },
  {
   "cell_type": "code",
   "execution_count": null,
   "metadata": {},
   "outputs": [],
   "source": []
  },
  {
   "cell_type": "code",
   "execution_count": null,
   "metadata": {},
   "outputs": [],
   "source": [
    "max_profit = sup.groupby(['Country','Category','Sub-Category']).Profit.max()\n",
    "max_profit"
   ]
  },
  {
   "cell_type": "code",
   "execution_count": null,
   "metadata": {},
   "outputs": [],
   "source": [
    "min_profit = sup.groupby(['Country','Category','Sub-Category']).Profit.min()\n",
    "min_profit"
   ]
  },
  {
   "cell_type": "code",
   "execution_count": null,
   "metadata": {},
   "outputs": [],
   "source": [
    "avg_profit = sup.groupby(['Country','Category','Sub-Category']).Profit.mean()\n",
    "avg_profit"
   ]
  },
  {
   "cell_type": "code",
   "execution_count": null,
   "metadata": {},
   "outputs": [],
   "source": [
    "std_profit = sup.groupby(['Country','Category','Sub-Category']).Profit.std()\n",
    "std_profit"
   ]
  },
  {
   "cell_type": "code",
   "execution_count": null,
   "metadata": {},
   "outputs": [],
   "source": [
    "max_sale = sup.groupby(['Country','Category','Sub-Category']).Sales.max()\n",
    "max_sale"
   ]
  },
  {
   "cell_type": "code",
   "execution_count": null,
   "metadata": {},
   "outputs": [],
   "source": [
    "min_sale = sup.groupby(['Country','Category','Sub-Category']).Sales.min()\n",
    "min_sale"
   ]
  },
  {
   "cell_type": "code",
   "execution_count": null,
   "metadata": {},
   "outputs": [],
   "source": [
    "avg_sale = sup.groupby(['Country','Category','Sub-Category']).Sales.mean()\n",
    "avg_sale"
   ]
  },
  {
   "cell_type": "code",
   "execution_count": null,
   "metadata": {},
   "outputs": [],
   "source": [
    "std_sale = sup.groupby(['Country','Category','Sub-Category']).Sales.std()\n",
    "std_sale"
   ]
  },
  {
   "cell_type": "code",
   "execution_count": null,
   "metadata": {},
   "outputs": [],
   "source": []
  }
 ],
 "metadata": {
  "kernelspec": {
   "display_name": "Python 3",
   "language": "python",
   "name": "python3"
  },
  "language_info": {
   "codemirror_mode": {
    "name": "ipython",
    "version": 3
   },
   "file_extension": ".py",
   "mimetype": "text/x-python",
   "name": "python",
   "nbconvert_exporter": "python",
   "pygments_lexer": "ipython3",
   "version": "3.9.2"
  }
 },
 "nbformat": 4,
 "nbformat_minor": 4
}
